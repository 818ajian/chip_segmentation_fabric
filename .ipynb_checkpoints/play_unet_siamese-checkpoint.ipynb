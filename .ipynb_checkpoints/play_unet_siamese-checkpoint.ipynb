{
 "cells": [
  {
   "cell_type": "code",
   "execution_count": 1,
   "metadata": {},
   "outputs": [],
   "source": [
    "import torch\n",
    "import torch.nn as nn\n",
    "import torch.optim as optim\n",
    "import torch.nn.functional as F\n",
    "import numpy as np\n",
    "import cv2 \n",
    "\n",
    "%matplotlib inline\n",
    "import matplotlib.pyplot as plt\n",
    "\n",
    "import os\n",
    "import math\n",
    "from utils.dataloaders import full_onera_loader, stretch_8bit\n",
    "\n",
    "import rasterio"
   ]
  },
  {
   "cell_type": "code",
   "execution_count": null,
   "metadata": {},
   "outputs": [],
   "source": []
  },
  {
   "cell_type": "code",
   "execution_count": 41,
   "metadata": {},
   "outputs": [],
   "source": [
    "DROPOUT = 0.0\n",
    "\n",
    "class UNetBlock(nn.Module):\n",
    "    def __init__(self, filters_in, filters_out):\n",
    "        super().__init__()\n",
    "        self.filters_in = filters_in\n",
    "        self.filters_out = filters_out\n",
    "        self.conv1 = nn.Conv2d(filters_in, filters_out, (3, 3), padding=1)\n",
    "        self.norm1 = nn.BatchNorm2d(filters_out)\n",
    "        self.conv2 = nn.Conv2d(filters_out, filters_out, (3, 3), padding=1)\n",
    "        self.norm2 = nn.BatchNorm2d(filters_out)\n",
    "\n",
    "        self.activation = nn.ReLU()\n",
    "\n",
    "    def forward(self, x):\n",
    "        conved1 = self.conv1(x)\n",
    "        conved1 = self.activation(conved1)\n",
    "        conved1 = self.norm1(conved1)\n",
    "        conved2 = self.conv2(conved1)\n",
    "        conved2 = self.activation(conved2)\n",
    "        conved2 = self.norm2(conved2)\n",
    "        return conved2\n",
    "\n",
    "class UNetDownBlock(UNetBlock):\n",
    "    def __init__(self, filters_in, filters_out, pool=True):\n",
    "        super().__init__(filters_in, filters_out)\n",
    "        if pool:\n",
    "            self.pool = nn.MaxPool2d(2)\n",
    "        else:\n",
    "            self.pool = lambda x: x\n",
    "\n",
    "    def forward(self, x):\n",
    "        return self.pool(super().forward(x))\n",
    "\n",
    "class UNetUpBlock(UNetBlock):\n",
    "    def __init__(self, filters_in, filters_out):\n",
    "        super().__init__(filters_in, filters_out)\n",
    "        self.upconv = nn.Conv2d(filters_in, filters_in // 2, (3, 3), padding=1)\n",
    "        self.upnorm = nn.BatchNorm2d(filters_in // 2)\n",
    "\n",
    "    def forward(self, x, cross_x1, cross_x2):\n",
    "        x = F.upsample(x, size=cross_x1.size()[-2:], mode='bilinear')\n",
    "        x = self.upnorm(self.activation(self.upconv(x)))\n",
    "        x = torch.cat((x, cross_x1*cross_x2), 1)\n",
    "        return super().forward(x)\n",
    "\n",
    "class UNet(nn.Module):\n",
    "    def __init__(self, layers, init_filters):\n",
    "        super().__init__()\n",
    "        self.down_layers = nn.ModuleList()\n",
    "        self.up_layers = nn.ModuleList()\n",
    "        self.init_filters = init_filters\n",
    "\n",
    "        filter_size = init_filters\n",
    "        for _ in range(layers - 1):\n",
    "            self.down_layers.append(\n",
    "                UNetDownBlock(filter_size, filter_size*2)\n",
    "            )\n",
    "            filter_size *= 2\n",
    "        self.down_layers.append(UNetDownBlock(filter_size, filter_size * 2, pool=False))\n",
    "        for i in range(layers):\n",
    "            self.up_layers.append(\n",
    "                UNetUpBlock(filter_size * 2, filter_size)\n",
    "            )\n",
    "            filter_size //= 2\n",
    "\n",
    "        self.data_norm = nn.BatchNorm2d(4)\n",
    "        self.init_layer = nn.Conv2d(4, init_filters, (7, 7), padding=3)\n",
    "        self.activation = nn.ReLU()\n",
    "        self.init_norm = nn.BatchNorm2d(init_filters)\n",
    "        self.dropout = nn.Dropout(DROPOUT)\n",
    "\n",
    "    def forward(self, x1, x2):\n",
    "        x1 = self.data_norm(x1)\n",
    "        x1 = self.init_norm(self.activation(self.init_layer(x1)))\n",
    "\n",
    "        x2 = self.data_norm(x2)\n",
    "        x2 = self.init_norm(self.activation(self.init_layer(x2)))\n",
    "        \n",
    "        saved_x = [[x1, x2]]\n",
    "        for layer in self.down_layers:\n",
    "            saved_x.append([x1,x2])\n",
    "            x1 = self.dropout(layer(x1))\n",
    "            x2 = self.dropout(layer(x2))\n",
    "        \n",
    "        saved_x_copy = saved_x\n",
    "        is_first = True\n",
    "        for layer, saved_x in zip(self.up_layers, reversed(saved_x)):\n",
    "            if not is_first:\n",
    "                is_first = False\n",
    "                x1 = self.dropout(x1)\n",
    "            x1 = layer(x1, saved_x[0], saved_x[1])\n",
    "        return x1, saved_x_copy\n",
    "\n",
    "class UNetClassify(UNet):\n",
    "    def __init__(self, *args, **kwargs):\n",
    "#         init_val = kwargs.pop('init_val', 0.5)\n",
    "        super().__init__(*args, **kwargs)\n",
    "        self.output_layer = nn.Conv2d(self.init_filters, 1, (3, 3), padding=1)\n",
    "\n",
    "#         for name, param in self.named_parameters():\n",
    "#             typ = name.split('.')[-1]\n",
    "#             if typ == 'bias':\n",
    "#                 if 'output_layer' in name:\n",
    "#                     # Init so that the average will end up being init_val\n",
    "#                     param.data.fill_(-math.log((1-init_val)/init_val))\n",
    "#                 else:\n",
    "#                     param.data.zero_()\n",
    "\n",
    "    def forward(self, x1, x2):\n",
    "        x = super().forward(x1, x2)\n",
    "        # Note that we don't perform the sigmoid here.\n",
    "        return self.output_layer(x[0]), x[1]"
   ]
  },
  {
   "cell_type": "code",
   "execution_count": null,
   "metadata": {},
   "outputs": [],
   "source": []
  },
  {
   "cell_type": "code",
   "execution_count": 42,
   "metadata": {},
   "outputs": [
    {
     "data": {
      "text/plain": [
       "UNetClassify(\n",
       "  (down_layers): ModuleList(\n",
       "    (0): UNetDownBlock(\n",
       "      (conv1): Conv2d(16, 32, kernel_size=(3, 3), stride=(1, 1), padding=(1, 1))\n",
       "      (norm1): BatchNorm2d(32, eps=1e-05, momentum=0.1, affine=True, track_running_stats=True)\n",
       "      (conv2): Conv2d(32, 32, kernel_size=(3, 3), stride=(1, 1), padding=(1, 1))\n",
       "      (norm2): BatchNorm2d(32, eps=1e-05, momentum=0.1, affine=True, track_running_stats=True)\n",
       "      (activation): ReLU()\n",
       "      (pool): MaxPool2d(kernel_size=2, stride=2, padding=0, dilation=1, ceil_mode=False)\n",
       "    )\n",
       "    (1): UNetDownBlock(\n",
       "      (conv1): Conv2d(32, 64, kernel_size=(3, 3), stride=(1, 1), padding=(1, 1))\n",
       "      (norm1): BatchNorm2d(64, eps=1e-05, momentum=0.1, affine=True, track_running_stats=True)\n",
       "      (conv2): Conv2d(64, 64, kernel_size=(3, 3), stride=(1, 1), padding=(1, 1))\n",
       "      (norm2): BatchNorm2d(64, eps=1e-05, momentum=0.1, affine=True, track_running_stats=True)\n",
       "      (activation): ReLU()\n",
       "      (pool): MaxPool2d(kernel_size=2, stride=2, padding=0, dilation=1, ceil_mode=False)\n",
       "    )\n",
       "    (2): UNetDownBlock(\n",
       "      (conv1): Conv2d(64, 128, kernel_size=(3, 3), stride=(1, 1), padding=(1, 1))\n",
       "      (norm1): BatchNorm2d(128, eps=1e-05, momentum=0.1, affine=True, track_running_stats=True)\n",
       "      (conv2): Conv2d(128, 128, kernel_size=(3, 3), stride=(1, 1), padding=(1, 1))\n",
       "      (norm2): BatchNorm2d(128, eps=1e-05, momentum=0.1, affine=True, track_running_stats=True)\n",
       "      (activation): ReLU()\n",
       "      (pool): MaxPool2d(kernel_size=2, stride=2, padding=0, dilation=1, ceil_mode=False)\n",
       "    )\n",
       "    (3): UNetDownBlock(\n",
       "      (conv1): Conv2d(128, 256, kernel_size=(3, 3), stride=(1, 1), padding=(1, 1))\n",
       "      (norm1): BatchNorm2d(256, eps=1e-05, momentum=0.1, affine=True, track_running_stats=True)\n",
       "      (conv2): Conv2d(256, 256, kernel_size=(3, 3), stride=(1, 1), padding=(1, 1))\n",
       "      (norm2): BatchNorm2d(256, eps=1e-05, momentum=0.1, affine=True, track_running_stats=True)\n",
       "      (activation): ReLU()\n",
       "    )\n",
       "  )\n",
       "  (up_layers): ModuleList(\n",
       "    (0): UNetUpBlock(\n",
       "      (conv1): Conv2d(256, 128, kernel_size=(3, 3), stride=(1, 1), padding=(1, 1))\n",
       "      (norm1): BatchNorm2d(128, eps=1e-05, momentum=0.1, affine=True, track_running_stats=True)\n",
       "      (conv2): Conv2d(128, 128, kernel_size=(3, 3), stride=(1, 1), padding=(1, 1))\n",
       "      (norm2): BatchNorm2d(128, eps=1e-05, momentum=0.1, affine=True, track_running_stats=True)\n",
       "      (activation): ReLU()\n",
       "      (upconv): Conv2d(256, 128, kernel_size=(3, 3), stride=(1, 1), padding=(1, 1))\n",
       "      (upnorm): BatchNorm2d(128, eps=1e-05, momentum=0.1, affine=True, track_running_stats=True)\n",
       "    )\n",
       "    (1): UNetUpBlock(\n",
       "      (conv1): Conv2d(128, 64, kernel_size=(3, 3), stride=(1, 1), padding=(1, 1))\n",
       "      (norm1): BatchNorm2d(64, eps=1e-05, momentum=0.1, affine=True, track_running_stats=True)\n",
       "      (conv2): Conv2d(64, 64, kernel_size=(3, 3), stride=(1, 1), padding=(1, 1))\n",
       "      (norm2): BatchNorm2d(64, eps=1e-05, momentum=0.1, affine=True, track_running_stats=True)\n",
       "      (activation): ReLU()\n",
       "      (upconv): Conv2d(128, 64, kernel_size=(3, 3), stride=(1, 1), padding=(1, 1))\n",
       "      (upnorm): BatchNorm2d(64, eps=1e-05, momentum=0.1, affine=True, track_running_stats=True)\n",
       "    )\n",
       "    (2): UNetUpBlock(\n",
       "      (conv1): Conv2d(64, 32, kernel_size=(3, 3), stride=(1, 1), padding=(1, 1))\n",
       "      (norm1): BatchNorm2d(32, eps=1e-05, momentum=0.1, affine=True, track_running_stats=True)\n",
       "      (conv2): Conv2d(32, 32, kernel_size=(3, 3), stride=(1, 1), padding=(1, 1))\n",
       "      (norm2): BatchNorm2d(32, eps=1e-05, momentum=0.1, affine=True, track_running_stats=True)\n",
       "      (activation): ReLU()\n",
       "      (upconv): Conv2d(64, 32, kernel_size=(3, 3), stride=(1, 1), padding=(1, 1))\n",
       "      (upnorm): BatchNorm2d(32, eps=1e-05, momentum=0.1, affine=True, track_running_stats=True)\n",
       "    )\n",
       "    (3): UNetUpBlock(\n",
       "      (conv1): Conv2d(32, 16, kernel_size=(3, 3), stride=(1, 1), padding=(1, 1))\n",
       "      (norm1): BatchNorm2d(16, eps=1e-05, momentum=0.1, affine=True, track_running_stats=True)\n",
       "      (conv2): Conv2d(16, 16, kernel_size=(3, 3), stride=(1, 1), padding=(1, 1))\n",
       "      (norm2): BatchNorm2d(16, eps=1e-05, momentum=0.1, affine=True, track_running_stats=True)\n",
       "      (activation): ReLU()\n",
       "      (upconv): Conv2d(32, 16, kernel_size=(3, 3), stride=(1, 1), padding=(1, 1))\n",
       "      (upnorm): BatchNorm2d(16, eps=1e-05, momentum=0.1, affine=True, track_running_stats=True)\n",
       "    )\n",
       "  )\n",
       "  (data_norm): BatchNorm2d(4, eps=1e-05, momentum=0.1, affine=True, track_running_stats=True)\n",
       "  (init_layer): Conv2d(4, 16, kernel_size=(7, 7), stride=(1, 1), padding=(3, 3))\n",
       "  (activation): ReLU()\n",
       "  (init_norm): BatchNorm2d(16, eps=1e-05, momentum=0.1, affine=True, track_running_stats=True)\n",
       "  (dropout): Dropout(p=0.0)\n",
       "  (output_layer): Conv2d(16, 1, kernel_size=(3, 3), stride=(1, 1), padding=(1, 1))\n",
       ")"
      ]
     },
     "execution_count": 42,
     "metadata": {},
     "output_type": "execute_result"
    }
   ],
   "source": [
    "# model = torch.load('../weights/onera/3dconv_seg.pt')\n",
    "model = UNetClassify(layers=4, init_filters=16).cuda()\n",
    "weights = torch.load('../weights/onera/unet_siamese_prod_inp32_4band_2dates_focal_hm.pt')\n",
    "model.load_state_dict(weights)\n",
    "model.eval()"
   ]
  },
  {
   "cell_type": "code",
   "execution_count": 43,
   "metadata": {},
   "outputs": [],
   "source": [
    "dataset = full_onera_loader('../datasets/onera/', ['B02','B03','B04','B08'])"
   ]
  },
  {
   "cell_type": "code",
   "execution_count": 44,
   "metadata": {},
   "outputs": [
    {
     "name": "stderr",
     "output_type": "stream",
     "text": [
      "/usr/local/lib/python3.5/dist-packages/torch/nn/functional.py:1890: UserWarning: nn.functional.upsample is deprecated. Use nn.functional.interpolate instead.\n",
      "  warnings.warn(\"nn.functional.upsample is deprecated. Use nn.functional.interpolate instead.\")\n",
      "/usr/local/lib/python3.5/dist-packages/torch/nn/functional.py:1961: UserWarning: Default upsampling behavior when mode=bilinear is changed to align_corners=False since 0.4.0. Please specify align_corners=True if the old behavior is desired. See the documentation of nn.Upsample for details.\n",
      "  \"See the documentation of nn.Upsample for details.\".format(mode))\n",
      "/usr/local/lib/python3.5/dist-packages/torch/nn/functional.py:1006: UserWarning: nn.functional.sigmoid is deprecated. Use torch.sigmoid instead.\n",
      "  warnings.warn(\"nn.functional.sigmoid is deprecated. Use torch.sigmoid instead.\")\n"
     ]
    },
    {
     "name": "stdout",
     "output_type": "stream",
     "text": [
      "5\n",
      "5\n",
      "5\n",
      "5\n",
      "5\n",
      "5\n",
      "5\n",
      "5\n",
      "5\n",
      "5\n",
      "5\n",
      "5\n",
      "5\n",
      "5\n",
      "5\n",
      "5\n",
      "5\n",
      "5\n",
      "5\n",
      "5\n",
      "5\n",
      "5\n",
      "5\n",
      "5\n",
      "5\n",
      "5\n",
      "5\n",
      "5\n",
      "5\n",
      "5\n",
      "5\n",
      "5\n",
      "5\n",
      "5\n",
      "5\n",
      "5\n",
      "5\n",
      "5\n",
      "5\n",
      "5\n",
      "5\n",
      "5\n",
      "5\n",
      "5\n",
      "5\n",
      "5\n",
      "5\n",
      "5\n",
      "5\n",
      "5\n",
      "5\n",
      "5\n",
      "5\n",
      "5\n",
      "5\n",
      "5\n",
      "5\n",
      "5\n",
      "5\n",
      "5\n",
      "5\n",
      "5\n",
      "5\n",
      "5\n",
      "5\n",
      "5\n",
      "5\n",
      "5\n",
      "5\n",
      "5\n",
      "5\n",
      "5\n",
      "5\n",
      "5\n",
      "5\n",
      "5\n",
      "5\n",
      "5\n",
      "5\n",
      "5\n",
      "5\n",
      "5\n",
      "5\n",
      "5\n",
      "5\n",
      "5\n",
      "5\n",
      "5\n",
      "5\n",
      "5\n",
      "5\n",
      "5\n",
      "5\n",
      "5\n",
      "5\n",
      "5\n",
      "5\n",
      "5\n",
      "5\n",
      "5\n",
      "5\n",
      "5\n",
      "5\n",
      "5\n",
      "5\n",
      "5\n",
      "5\n",
      "5\n",
      "5\n",
      "5\n",
      "5\n",
      "5\n",
      "5\n",
      "5\n",
      "5\n",
      "5\n",
      "5\n",
      "5\n",
      "5\n",
      "5\n",
      "5\n",
      "5\n",
      "5\n",
      "5\n",
      "5\n",
      "5\n",
      "5\n",
      "5\n",
      "5\n",
      "5\n",
      "5\n",
      "5\n",
      "5\n",
      "5\n",
      "5\n",
      "5\n",
      "5\n",
      "5\n",
      "5\n",
      "5\n",
      "5\n",
      "5\n",
      "5\n",
      "5\n"
     ]
    },
    {
     "data": {
      "image/png": "[encoded data removed]",
      "text/plain": [
       "<Figure size 432x288 with 1 Axes>"
      ]
     },
     "metadata": {
      "needs_background": "light"
     },
     "output_type": "display_data"
    },
    {
     "data": {
      "image/png": "[encoded data removed]",
      "text/plain": [
       "<Figure size 432x288 with 1 Axes>"
      ]
     },
     "metadata": {
      "needs_background": "light"
     },
     "output_type": "display_data"
    }
   ],
   "source": [
    "input_size = 32\n",
    "for city in dataset.keys():\n",
    "    img = dataset[city]['images']\n",
    "    label = dataset[city]['labels']\n",
    "    out = np.zeros((img.shape[2],img.shape[3]))\n",
    "    outs1_1 = []\n",
    "    outs2_1 = []\n",
    "    outs3_1 = []\n",
    "    outs4_1 = []\n",
    "    outs5_1 = []\n",
    "    \n",
    "    outs1_2 = []\n",
    "    outs2_2 = []\n",
    "    outs3_2 = []\n",
    "    outs4_2 = []\n",
    "    outs5_2 = []\n",
    "    \n",
    "    for i in range(0,img.shape[2],input_size):\n",
    "        for j in range(0,img.shape[3],input_size):\n",
    "            if i + input_size < img.shape[2] and j + input_size < img.shape[3]:\n",
    "                patch = np.transpose(dataset[city]['images'][:, : ,i:i+input_size, j:j+input_size], (1,0,2,3))\n",
    "                inp1 = torch.from_numpy(np.asarray([patch[0]])).cuda()\n",
    "                inp2 = torch.from_numpy(np.asarray([patch[1]])).cuda()\n",
    "                logits = model(inp1, inp2)\n",
    "#                 print (logits.min(),logits.max())\n",
    "                pred = F.sigmoid(logits[0]) > 0.5\n",
    "                pred = pred.data.cpu().numpy()[0]\n",
    "                out[i:i+input_size,j:j+input_size] = pred    \n",
    "                print (len(logits[1]))\n",
    "    plt.imshow(out)\n",
    "    plt.show()\n",
    "    plt.imshow(label)\n",
    "    plt.show()\n",
    "    break"
   ]
  },
  {
   "cell_type": "code",
   "execution_count": 7,
   "metadata": {},
   "outputs": [],
   "source": [
    "abus2_d1_path = '../datasets/onera/images/abudhabi/cropped_safes/20151204T070252/'\n",
    "abus2_d2_path = '../datasets/onera/images/abudhabi/cropped_safes/20181009T065801/'\n",
    "\n",
    "\n"
   ]
  },
  {
   "cell_type": "code",
   "execution_count": 8,
   "metadata": {},
   "outputs": [],
   "source": [
    "d1_b2_r = rasterio.open(abus2_d1_path + 'B02.tif')\n",
    "d1_b3_r = rasterio.open(abus2_d1_path + 'B03.tif')\n",
    "d1_b4_r = rasterio.open(abus2_d1_path + 'B04.tif')\n",
    "d1_b8_r = rasterio.open(abus2_d1_path + 'B08.tif')\n",
    "\n",
    "d2_b2_r = rasterio.open(abus2_d2_path + 'B02.tif')\n",
    "d2_b3_r = rasterio.open(abus2_d2_path + 'B03.tif')\n",
    "d2_b4_r = rasterio.open(abus2_d2_path + 'B04.tif')\n",
    "d2_b8_r = rasterio.open(abus2_d2_path + 'B08.tif')\n"
   ]
  },
  {
   "cell_type": "code",
   "execution_count": 9,
   "metadata": {},
   "outputs": [],
   "source": [
    "d1_b2 = stretch_8bit(d1_b2_r.read()[0], 2, 98)\n",
    "d1_b3 = stretch_8bit(d1_b3_r.read()[0], 2, 98)\n",
    "d1_b4 = stretch_8bit(d1_b4_r.read()[0], 2, 98)\n",
    "d1_b8 = stretch_8bit(d1_b8_r.read()[0], 2, 98)\n",
    "\n",
    "d2_b2 = stretch_8bit(d2_b2_r.read()[0], 2, 98)\n",
    "d2_b3 = stretch_8bit(d2_b3_r.read()[0], 2, 98)\n",
    "d2_b4 = stretch_8bit(d2_b4_r.read()[0], 2, 98)\n",
    "d2_b8 = stretch_8bit(d2_b8_r.read()[0], 2, 98)"
   ]
  },
  {
   "cell_type": "code",
   "execution_count": 10,
   "metadata": {},
   "outputs": [],
   "source": [
    "inp1 = np.asarray([[d1_b2, d1_b3, d1_b4, d1_b8]]).astype(np.float32) / 255.\n",
    "inp2 = np.asarray([[d2_b2, d2_b3, d2_b4, d2_b8]]).astype(np.float32) / 255."
   ]
  },
  {
   "cell_type": "code",
   "execution_count": 11,
   "metadata": {},
   "outputs": [
    {
     "name": "stderr",
     "output_type": "stream",
     "text": [
      "/usr/local/lib/python3.5/dist-packages/torch/nn/functional.py:1890: UserWarning: nn.functional.upsample is deprecated. Use nn.functional.interpolate instead.\n",
      "  warnings.warn(\"nn.functional.upsample is deprecated. Use nn.functional.interpolate instead.\")\n",
      "/usr/local/lib/python3.5/dist-packages/torch/nn/functional.py:1961: UserWarning: Default upsampling behavior when mode=bilinear is changed to align_corners=False since 0.4.0. Please specify align_corners=True if the old behavior is desired. See the documentation of nn.Upsample for details.\n",
      "  \"See the documentation of nn.Upsample for details.\".format(mode))\n",
      "/usr/local/lib/python3.5/dist-packages/torch/nn/functional.py:1006: UserWarning: nn.functional.sigmoid is deprecated. Use torch.sigmoid instead.\n",
      "  warnings.warn(\"nn.functional.sigmoid is deprecated. Use torch.sigmoid instead.\")\n"
     ]
    },
    {
     "data": {
      "image/png": "[encoded data removed]",
      "text/plain": [
       "<Figure size 432x288 with 1 Axes>"
      ]
     },
     "metadata": {
      "needs_background": "light"
     },
     "output_type": "display_data"
    }
   ],
   "source": [
    "out = np.zeros((inp1.shape[2], inp2.shape[3]))\n",
    "for i in range(0,img.shape[2],32):\n",
    "    for j in range(0,img.shape[3],32):\n",
    "        if i + 32 < img.shape[2] and j + 32 < img.shape[3]:\n",
    "            p1 = torch.from_numpy(inp1[:,:,i:i+32,j:j+32]).cuda()\n",
    "            p2 = torch.from_numpy(inp2[:,:,i:i+32,j:j+32]).cuda()\n",
    "            logits = model(p1, p2)\n",
    "#                 print (logits.min(),logits.max())\n",
    "            pred = F.sigmoid(logits) > 0.5\n",
    "            pred = pred.data.cpu().numpy()[0]\n",
    "            out[i:i+32,j:j+32] = pred     \n",
    "plt.imshow(out)\n",
    "plt.show()"
   ]
  },
  {
   "cell_type": "code",
   "execution_count": 12,
   "metadata": {},
   "outputs": [],
   "source": [
    "d1_path = '../../Yiwu/SAFES/S2A_MSIL1C_20151126T024032_N0204_R089_T50RQT_20170228T133751.SAFE/GRANULE/S2A_OPER_MSI_L1C_TL_EPA__20170228T092218_A002231_T50RQT_N02.04/IMG_DATA/S2A_OPER_MSI_L1C_TL_EPA__20170228T092218_A002231_T50RQT_'\n",
    "d1b2_r = rasterio.open(d1_path + 'B02.jp2')\n",
    "d1b3_r = rasterio.open(d1_path + 'B03.jp2')\n",
    "d1b4_r = rasterio.open(d1_path + 'B04.jp2')\n",
    "d1b8_r = rasterio.open(d1_path + 'B08.jp2')\n",
    "\n",
    "d2_path = '../../Yiwu/SAFES/S2B_MSIL1C_20180419T023549_N0206_R089_T50RQT_20180419T051329.SAFE/GRANULE/L1C_T50RQT_A005835_20180419T024752/IMG_DATA/T50RQT_20180419T023549_'\n",
    "d2b2_r = rasterio.open(d2_path + 'B02.jp2')\n",
    "d2b3_r = rasterio.open(d2_path + 'B03.jp2')\n",
    "d2b4_r = rasterio.open(d2_path + 'B04.jp2')\n",
    "d2b8_r = rasterio.open(d2_path + 'B08.jp2')"
   ]
  },
  {
   "cell_type": "code",
   "execution_count": 13,
   "metadata": {},
   "outputs": [],
   "source": [
    "d1_b2 = stretch_8bit(d1b2_r.read()[0])\n",
    "d1_b3 = stretch_8bit(d1b3_r.read()[0])\n",
    "d1_b4 = stretch_8bit(d1b4_r.read()[0])\n",
    "d1_b8 = stretch_8bit(d1b8_r.read()[0])\n",
    "\n",
    "d2_b2 = stretch_8bit(d1b2_r.read()[0])\n",
    "d2_b3 = stretch_8bit(d1b3_r.read()[0])\n",
    "d2_b4 = stretch_8bit(d1b4_r.read()[0])\n",
    "d2_b8 = stretch_8bit(d1b8_r.read()[0])"
   ]
  },
  {
   "cell_type": "code",
   "execution_count": 14,
   "metadata": {},
   "outputs": [],
   "source": [
    "d1_stack = np.asarray([d1_b2,d1_b3,d1_b4,d1_b8]).astype(np.float32) / 255.\n",
    "d2_stack = np.asarray([d2_b2,d2_b3,d2_b4,d2_b8]).astype(np.float32) / 255."
   ]
  },
  {
   "cell_type": "code",
   "execution_count": 15,
   "metadata": {},
   "outputs": [],
   "source": [
    "batches1 = []\n",
    "batches2 = []\n",
    "input_size = 32\n",
    "for i in range(0,d1_b2.shape[0],input_size):\n",
    "    for j in range(0,d1_b2.shape[1],input_size):\n",
    "        if i + input_size < d1_b2.shape[0] and j + input_size < d1_b2.shape[1]:\n",
    "            batches1.append(d1_stack[:,i:i+input_size,j:j+input_size])\n",
    "            batches2.append(d2_stack[:,i:i+input_size,j:j+input_size])"
   ]
  },
  {
   "cell_type": "code",
   "execution_count": 16,
   "metadata": {},
   "outputs": [
    {
     "name": "stderr",
     "output_type": "stream",
     "text": [
      "/usr/local/lib/python3.5/dist-packages/torch/nn/functional.py:1890: UserWarning: nn.functional.upsample is deprecated. Use nn.functional.interpolate instead.\n",
      "  warnings.warn(\"nn.functional.upsample is deprecated. Use nn.functional.interpolate instead.\")\n",
      "/usr/local/lib/python3.5/dist-packages/torch/nn/functional.py:1961: UserWarning: Default upsampling behavior when mode=bilinear is changed to align_corners=False since 0.4.0. Please specify align_corners=True if the old behavior is desired. See the documentation of nn.Upsample for details.\n",
      "  \"See the documentation of nn.Upsample for details.\".format(mode))\n",
      "/usr/local/lib/python3.5/dist-packages/torch/nn/functional.py:1006: UserWarning: nn.functional.sigmoid is deprecated. Use torch.sigmoid instead.\n",
      "  warnings.warn(\"nn.functional.sigmoid is deprecated. Use torch.sigmoid instead.\")\n"
     ]
    },
    {
     "name": "stdout",
     "output_type": "stream",
     "text": [
      "10000\n",
      "20000\n",
      "30000\n",
      "40000\n",
      "50000\n",
      "60000\n",
      "70000\n",
      "80000\n",
      "90000\n",
      "100000\n",
      "110000\n"
     ]
    }
   ],
   "source": [
    "outs = []\n",
    "\n",
    "for k in range(0,len(batches1),200):\n",
    "    inp1 = torch.from_numpy(np.asarray(batches1[k:k+200])).cuda()\n",
    "    inp2 = torch.from_numpy(np.asarray(batches2[k:k+200])).cuda()\n",
    "    logits = model(inp1, inp2)\n",
    "    pred = F.sigmoid(logits)\n",
    "    pred = pred.data.cpu().numpy()\n",
    "    outs += list(pred)\n",
    "    \n",
    "    if len(outs) % 10000 == 0:\n",
    "        print (len(outs))"
   ]
  },
  {
   "cell_type": "code",
   "execution_count": 17,
   "metadata": {},
   "outputs": [],
   "source": [
    "out = np.zeros((d1_b2.shape[0],d1_b2.shape[1]))"
   ]
  },
  {
   "cell_type": "code",
   "execution_count": 18,
   "metadata": {},
   "outputs": [],
   "source": [
    "k = 0\n",
    "for i in range(0, d1_b2.shape[0], input_size):\n",
    "    for j in range(0, d1_b2.shape[1], input_size):\n",
    "        if i+input_size < d1_b2.shape[0] and j+input_size < d1_b2.shape[1]:\n",
    "            out[i:i+input_size, j:j+input_size] = outs[k]\n",
    "            k += 1"
   ]
  },
  {
   "cell_type": "code",
   "execution_count": 19,
   "metadata": {},
   "outputs": [
    {
     "data": {
      "text/plain": [
       "117649"
      ]
     },
     "execution_count": 19,
     "metadata": {},
     "output_type": "execute_result"
    }
   ],
   "source": [
    "len(outs)"
   ]
  },
  {
   "cell_type": "code",
   "execution_count": 26,
   "metadata": {},
   "outputs": [
    {
     "data": {
      "text/plain": [
       "<matplotlib.image.AxesImage at 0x7fb7047a5be0>"
      ]
     },
     "execution_count": 26,
     "metadata": {},
     "output_type": "execute_result"
    },
    {
     "data": {
      "image/png": "[encoded data removed]",
      "text/plain": [
       "<Figure size 432x288 with 1 Axes>"
      ]
     },
     "metadata": {
      "needs_background": "light"
     },
     "output_type": "display_data"
    }
   ],
   "source": [
    "plt.imshow(out>0.5)"
   ]
  },
  {
   "cell_type": "markdown",
   "metadata": {},
   "source": [
    "cv2.imwrite('yiwu_out.png', (out > 0.1) * 255)"
   ]
  },
  {
   "cell_type": "code",
   "execution_count": 27,
   "metadata": {},
   "outputs": [
    {
     "data": {
      "text/plain": [
       "True"
      ]
     },
     "execution_count": 27,
     "metadata": {},
     "output_type": "execute_result"
    }
   ],
   "source": [
    "cv2.imwrite('yiwu_out.png', (out > 0.5) * 255)"
   ]
  },
  {
   "cell_type": "code",
   "execution_count": null,
   "metadata": {},
   "outputs": [],
   "source": []
  },
  {
   "cell_type": "code",
   "execution_count": null,
   "metadata": {},
   "outputs": [],
   "source": []
  }
 ],
 "metadata": {
  "kernelspec": {
   "display_name": "Python 3",
   "language": "python",
   "name": "python3"
  },
  "language_info": {
   "codemirror_mode": {
    "name": "ipython",
    "version": 3
   },
   "file_extension": ".py",
   "mimetype": "text/x-python",
   "name": "python",
   "nbconvert_exporter": "python",
   "pygments_lexer": "ipython3",
   "version": "3.5.2"
  }
 },
 "nbformat": 4,
 "nbformat_minor": 2
}
