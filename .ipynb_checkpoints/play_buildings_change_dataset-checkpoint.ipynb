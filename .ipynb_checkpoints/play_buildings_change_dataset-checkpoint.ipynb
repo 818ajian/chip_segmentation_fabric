{
 "cells": [
  {
   "cell_type": "code",
   "execution_count": 1,
   "metadata": {},
   "outputs": [],
   "source": [
    "import rasterio\n",
    "import cv2\n",
    "import numpy as np\n",
    "import csv"
   ]
  },
  {
   "cell_type": "code",
   "execution_count": 2,
   "metadata": {},
   "outputs": [],
   "source": [
    "r = rasterio.open('../datasets/buildings_change/Images/ortho_2011.tif')"
   ]
  },
  {
   "cell_type": "code",
   "execution_count": 3,
   "metadata": {},
   "outputs": [
    {
     "data": {
      "text/plain": [
       "(6794, 7884)"
      ]
     },
     "execution_count": 3,
     "metadata": {},
     "output_type": "execute_result"
    }
   ],
   "source": [
    "r.shape"
   ]
  },
  {
   "cell_type": "code",
   "execution_count": 5,
   "metadata": {},
   "outputs": [
    {
     "name": "stdout",
     "output_type": "stream",
     "text": [
      "9102 3813\n"
     ]
    }
   ],
   "source": [
    "inp_size = 64\n",
    "train = []\n",
    "for i in range(0,int(r.shape[0]*0.7),inp_size):\n",
    "    for j in range(0,r.shape[1],inp_size):\n",
    "        if i + inp_size < int(r.shape[0]*0.7) and j + inp_size < r.shape[1]:\n",
    "            train.append([i,j])\n",
    "\n",
    "test = []\n",
    "for i in range(int(r.shape[0]*0.7),r.shape[0],inp_size):\n",
    "    for j in range(0,r.shape[1],inp_size):\n",
    "        if i + inp_size < r.shape[0] and j + inp_size < r.shape[1]:\n",
    "            test.append([i,j])\n",
    "\n",
    "print (len(train), len(test))"
   ]
  },
  {
   "cell_type": "code",
   "execution_count": 6,
   "metadata": {},
   "outputs": [],
   "source": [
    "fout = open('../datasets/buildings_change/train.csv','w')\n",
    "w = csv.writer(fout)\n",
    "for t in train:\n",
    "    w.writerow(t)\n",
    "fout.close()\n",
    "\n",
    "fout = open('../datasets/buildings_change/test.csv','w')\n",
    "w = csv.writer(fout)\n",
    "for t in test:\n",
    "    w.writerow(t)\n",
    "fout.close()"
   ]
  },
  {
   "cell_type": "code",
   "execution_count": null,
   "metadata": {},
   "outputs": [],
   "source": []
  }
 ],
 "metadata": {
  "kernelspec": {
   "display_name": "Python 3",
   "language": "python",
   "name": "python3"
  },
  "language_info": {
   "codemirror_mode": {
    "name": "ipython",
    "version": 3
   },
   "file_extension": ".py",
   "mimetype": "text/x-python",
   "name": "python",
   "nbconvert_exporter": "python",
   "pygments_lexer": "ipython3",
   "version": "3.5.2"
  }
 },
 "nbformat": 4,
 "nbformat_minor": 2
}
