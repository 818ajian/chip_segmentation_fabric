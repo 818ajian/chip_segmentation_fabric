{
 "cells": [
  {
   "cell_type": "code",
   "execution_count": 2,
   "metadata": {},
   "outputs": [],
   "source": [
    "import torch\n",
    "import torch.nn as nn\n",
    "import torch.optim as optim\n",
    "import torch.nn.functional as F\n",
    "from torch.autograd import Variable\n",
    "import numpy as np\n",
    "import cv2 \n",
    "\n",
    "%matplotlib inline\n",
    "import matplotlib.pyplot as plt\n",
    "\n",
    "import os\n",
    "import math\n",
    "from utils.dataloaders import full_buildings_loader\n",
    "\n",
    "import rasterio"
   ]
  },
  {
   "cell_type": "code",
   "execution_count": 3,
   "metadata": {},
   "outputs": [],
   "source": [
    "DROPOUT = 0.5\n",
    "\n",
    "def compute_size(inp_size, kernel_size, stride, padding):\n",
    "    return (inp_size - kernel_size + 2 * padding) / stride + 1\n",
    "\n",
    "class UNetBlock(nn.Module):\n",
    "    def __init__(self, filters_in, filters_out):\n",
    "        super().__init__()\n",
    "        self.filters_in = filters_in\n",
    "        self.filters_out = filters_out\n",
    "        \n",
    "        self.conv1 = nn.Conv2d(filters_in, filters_out, (3, 3), padding=1)\n",
    "        self.norm1 = nn.BatchNorm2d(filters_out)\n",
    "        self.conv2 = nn.Conv2d(filters_out, filters_out, (3, 3), padding=1)\n",
    "        self.norm2 = nn.BatchNorm2d(filters_out)\n",
    "\n",
    "        self.activation = nn.ReLU()\n",
    "\n",
    "    def forward(self, x):\n",
    "        conved1 = self.conv1(x)\n",
    "        conved1 = self.activation(conved1)\n",
    "        conved1 = self.norm1(conved1)\n",
    "        conved2 = self.conv2(conved1)\n",
    "        conved2 = self.activation(conved2)\n",
    "        conved2 = self.norm2(conved2)\n",
    "        return conved2\n",
    "\n",
    "class UNetDownBlock(UNetBlock):\n",
    "    def __init__(self, input_size, filters_in, filters_out, pooling=True):\n",
    "        super().__init__(filters_in, filters_out)\n",
    "        self.filters_out = filters_out\n",
    "        self.input_size = input_size\n",
    "        self.pooling = pooling\n",
    "        \n",
    "        if pooling:\n",
    "            self.pool = nn.MaxPool2d(2)\n",
    "            self.recurrent_weights = nn.Parameter(torch.Tensor(filters_out, input_size//2, input_size//2))\n",
    "            self.recurrent_activation = nn.Tanh()\n",
    "        else:\n",
    "            self.pool = lambda x: x\n",
    "            self.recurrent_weights = nn.Parameter(torch.Tensor(filters_out, input_size, input_size))\n",
    "            self.recurrent_activation = nn.Tanh()\n",
    "\n",
    "    def forward(self, xinp):\n",
    "        if self.pooling:\n",
    "            h = torch.randn(xinp.size()[1], self.filters_out, self.input_size//2, self.input_size//2).cuda()\n",
    "            xout = Variable(torch.zeros(xinp.size()[0], xinp.size()[1], self.filters_out, self.input_size//2, self.input_size//2)).cuda()\n",
    "        else:\n",
    "            h = torch.randn(xinp.size()[1], self.filters_out, self.input_size, self.input_size).cuda()\n",
    "            xout = Variable(torch.zeros(xinp.size()[0], xinp.size()[1], self.filters_out, self.input_size, self.input_size)).cuda()\n",
    "            \n",
    "        for i in range(xinp.size()[0]):\n",
    "            xs = self.pool(super().forward(xinp[i]))\n",
    "            xs = self.recurrent_activation(self.recurrent_weights * h + xs)\n",
    "            xout[i] = xs\n",
    "            \n",
    "        return xs, xout\n",
    "\n",
    "class UNetUpBlock(UNetBlock):\n",
    "    def __init__(self, filters_in, filters_out):\n",
    "        super().__init__(filters_in, filters_out)\n",
    "        self.upconv = nn.Conv2d(filters_in, filters_in // 2, (3, 3), padding=1)\n",
    "        self.upnorm = nn.BatchNorm2d(filters_in // 2)\n",
    "\n",
    "    def forward(self, x, cross_x):\n",
    "        x = F.upsample(x, size=cross_x.size()[-2:], mode='bilinear')\n",
    "        x = self.upnorm(self.activation(self.upconv(x)))\n",
    "        x = torch.cat((x, cross_x), 1)\n",
    "        return super().forward(x)\n",
    "\n",
    "class UNet(nn.Module):\n",
    "    def __init__(self, input_size, layers, init_filters):\n",
    "        super().__init__()\n",
    "        self.down_layers = nn.ModuleList()\n",
    "        self.up_layers = nn.ModuleList()\n",
    "        self.input_size = input_size\n",
    "        self.init_filters = init_filters\n",
    "\n",
    "        \n",
    "        self.data_norm = nn.BatchNorm2d(4)\n",
    "        self.init_layer = nn.Conv2d(4, init_filters, (7, 7), padding=(3,3))\n",
    "        self.activation = nn.ReLU()\n",
    "        self.init_norm = nn.BatchNorm2d(init_filters)\n",
    "        self.dropout = nn.Dropout(DROPOUT)\n",
    "        \n",
    "        self.recurrent_weights = nn.Parameter(torch.Tensor(init_filters, input_size, input_size))\n",
    "        self.recurrent_activation = nn.Tanh()\n",
    "        \n",
    "        filter_size = init_filters\n",
    "        for i in range(layers - 1):\n",
    "            self.down_layers.append(\n",
    "                UNetDownBlock(input_size, filter_size, filter_size * 2)\n",
    "            )\n",
    "            filter_size *= 2\n",
    "            input_size = input_size // 2\n",
    "        self.down_layers.append(UNetDownBlock(input_size, filter_size, filter_size * 2, pooling=False))\n",
    "        for i in range(layers):\n",
    "            self.up_layers.append(\n",
    "                UNetUpBlock(filter_size * 2, filter_size)\n",
    "            )\n",
    "            filter_size //= 2\n",
    "\n",
    "    def forward(self, xinp):\n",
    "        h = torch.randn(xinp.size()[1], self.init_filters, self.input_size, self.input_size).cuda()\n",
    "        xout = Variable(torch.zeros(xinp.size()[0], xinp.size()[1], self.init_filters, self.input_size, self.input_size)).cuda()\n",
    "        \n",
    "        for i in range(xinp.size()[0]):\n",
    "            xs = self.data_norm(xinp[i])\n",
    "            xs = self.init_norm(self.activation(self.init_layer(xs)))\n",
    "            xs = self.recurrent_activation(self.recurrent_weights * h + xs)\n",
    "            xout[i] = xs\n",
    "            \n",
    "        saved_x = [xs]\n",
    "        for layer in self.down_layers:\n",
    "            saved_x.append(xs)\n",
    "            xs, xout = layer(xout)\n",
    "            xs = self.dropout(xs)\n",
    "        is_first = True\n",
    "        for layer, saved_x in zip(self.up_layers, reversed(saved_x)):\n",
    "            if not is_first:\n",
    "                is_first = False\n",
    "                xs = self.dropout(xs)\n",
    "            xs = layer(xs, saved_x)\n",
    "        return xs\n",
    "\n",
    "class UNetClassify(UNet):\n",
    "    def __init__(self, *args, **kwargs):\n",
    "        init_val = kwargs.pop('init_val', 0.5)\n",
    "        super().__init__(*args, **kwargs)\n",
    "        self.output_layer = nn.Conv2d(self.init_filters, 1, (3, 3), padding=1)\n",
    "\n",
    "        for name, param in self.named_parameters():\n",
    "            typ = name.split('.')[-1]\n",
    "            if typ == 'bias':\n",
    "                if 'output_layer' in name:\n",
    "                    # Init so that the average will end up being init_val\n",
    "                    param.data.fill_(-math.log((1-init_val)/init_val))\n",
    "                else:\n",
    "                    param.data.zero_()\n",
    "\n",
    "    def forward(self, x):\n",
    "        x = super().forward(x)\n",
    "        # Note that we don't perform the sigmoid here.\n",
    "        return self.output_layer(x)"
   ]
  },
  {
   "cell_type": "code",
   "execution_count": 20,
   "metadata": {},
   "outputs": [
    {
     "data": {
      "text/plain": [
       "UNetClassify(\n",
       "  (down_layers): ModuleList(\n",
       "    (0): UNetDownBlock(\n",
       "      (conv1): Conv2d(32, 64, kernel_size=(3, 3), stride=(1, 1), padding=(1, 1))\n",
       "      (norm1): BatchNorm2d(64, eps=1e-05, momentum=0.1, affine=True, track_running_stats=True)\n",
       "      (conv2): Conv2d(64, 64, kernel_size=(3, 3), stride=(1, 1), padding=(1, 1))\n",
       "      (norm2): BatchNorm2d(64, eps=1e-05, momentum=0.1, affine=True, track_running_stats=True)\n",
       "      (activation): ReLU()\n",
       "      (pool): MaxPool2d(kernel_size=2, stride=2, padding=0, dilation=1, ceil_mode=False)\n",
       "      (recurrent_activation): Tanh()\n",
       "    )\n",
       "    (1): UNetDownBlock(\n",
       "      (conv1): Conv2d(64, 128, kernel_size=(3, 3), stride=(1, 1), padding=(1, 1))\n",
       "      (norm1): BatchNorm2d(128, eps=1e-05, momentum=0.1, affine=True, track_running_stats=True)\n",
       "      (conv2): Conv2d(128, 128, kernel_size=(3, 3), stride=(1, 1), padding=(1, 1))\n",
       "      (norm2): BatchNorm2d(128, eps=1e-05, momentum=0.1, affine=True, track_running_stats=True)\n",
       "      (activation): ReLU()\n",
       "      (pool): MaxPool2d(kernel_size=2, stride=2, padding=0, dilation=1, ceil_mode=False)\n",
       "      (recurrent_activation): Tanh()\n",
       "    )\n",
       "    (2): UNetDownBlock(\n",
       "      (conv1): Conv2d(128, 256, kernel_size=(3, 3), stride=(1, 1), padding=(1, 1))\n",
       "      (norm1): BatchNorm2d(256, eps=1e-05, momentum=0.1, affine=True, track_running_stats=True)\n",
       "      (conv2): Conv2d(256, 256, kernel_size=(3, 3), stride=(1, 1), padding=(1, 1))\n",
       "      (norm2): BatchNorm2d(256, eps=1e-05, momentum=0.1, affine=True, track_running_stats=True)\n",
       "      (activation): ReLU()\n",
       "      (pool): MaxPool2d(kernel_size=2, stride=2, padding=0, dilation=1, ceil_mode=False)\n",
       "      (recurrent_activation): Tanh()\n",
       "    )\n",
       "    (3): UNetDownBlock(\n",
       "      (conv1): Conv2d(256, 512, kernel_size=(3, 3), stride=(1, 1), padding=(1, 1))\n",
       "      (norm1): BatchNorm2d(512, eps=1e-05, momentum=0.1, affine=True, track_running_stats=True)\n",
       "      (conv2): Conv2d(512, 512, kernel_size=(3, 3), stride=(1, 1), padding=(1, 1))\n",
       "      (norm2): BatchNorm2d(512, eps=1e-05, momentum=0.1, affine=True, track_running_stats=True)\n",
       "      (activation): ReLU()\n",
       "      (recurrent_activation): Tanh()\n",
       "    )\n",
       "  )\n",
       "  (up_layers): ModuleList(\n",
       "    (0): UNetUpBlock(\n",
       "      (conv1): Conv2d(512, 256, kernel_size=(3, 3), stride=(1, 1), padding=(1, 1))\n",
       "      (norm1): BatchNorm2d(256, eps=1e-05, momentum=0.1, affine=True, track_running_stats=True)\n",
       "      (conv2): Conv2d(256, 256, kernel_size=(3, 3), stride=(1, 1), padding=(1, 1))\n",
       "      (norm2): BatchNorm2d(256, eps=1e-05, momentum=0.1, affine=True, track_running_stats=True)\n",
       "      (activation): ReLU()\n",
       "      (upconv): Conv2d(512, 256, kernel_size=(3, 3), stride=(1, 1), padding=(1, 1))\n",
       "      (upnorm): BatchNorm2d(256, eps=1e-05, momentum=0.1, affine=True, track_running_stats=True)\n",
       "    )\n",
       "    (1): UNetUpBlock(\n",
       "      (conv1): Conv2d(256, 128, kernel_size=(3, 3), stride=(1, 1), padding=(1, 1))\n",
       "      (norm1): BatchNorm2d(128, eps=1e-05, momentum=0.1, affine=True, track_running_stats=True)\n",
       "      (conv2): Conv2d(128, 128, kernel_size=(3, 3), stride=(1, 1), padding=(1, 1))\n",
       "      (norm2): BatchNorm2d(128, eps=1e-05, momentum=0.1, affine=True, track_running_stats=True)\n",
       "      (activation): ReLU()\n",
       "      (upconv): Conv2d(256, 128, kernel_size=(3, 3), stride=(1, 1), padding=(1, 1))\n",
       "      (upnorm): BatchNorm2d(128, eps=1e-05, momentum=0.1, affine=True, track_running_stats=True)\n",
       "    )\n",
       "    (2): UNetUpBlock(\n",
       "      (conv1): Conv2d(128, 64, kernel_size=(3, 3), stride=(1, 1), padding=(1, 1))\n",
       "      (norm1): BatchNorm2d(64, eps=1e-05, momentum=0.1, affine=True, track_running_stats=True)\n",
       "      (conv2): Conv2d(64, 64, kernel_size=(3, 3), stride=(1, 1), padding=(1, 1))\n",
       "      (norm2): BatchNorm2d(64, eps=1e-05, momentum=0.1, affine=True, track_running_stats=True)\n",
       "      (activation): ReLU()\n",
       "      (upconv): Conv2d(128, 64, kernel_size=(3, 3), stride=(1, 1), padding=(1, 1))\n",
       "      (upnorm): BatchNorm2d(64, eps=1e-05, momentum=0.1, affine=True, track_running_stats=True)\n",
       "    )\n",
       "    (3): UNetUpBlock(\n",
       "      (conv1): Conv2d(64, 32, kernel_size=(3, 3), stride=(1, 1), padding=(1, 1))\n",
       "      (norm1): BatchNorm2d(32, eps=1e-05, momentum=0.1, affine=True, track_running_stats=True)\n",
       "      (conv2): Conv2d(32, 32, kernel_size=(3, 3), stride=(1, 1), padding=(1, 1))\n",
       "      (norm2): BatchNorm2d(32, eps=1e-05, momentum=0.1, affine=True, track_running_stats=True)\n",
       "      (activation): ReLU()\n",
       "      (upconv): Conv2d(64, 32, kernel_size=(3, 3), stride=(1, 1), padding=(1, 1))\n",
       "      (upnorm): BatchNorm2d(32, eps=1e-05, momentum=0.1, affine=True, track_running_stats=True)\n",
       "    )\n",
       "  )\n",
       "  (data_norm): BatchNorm2d(4, eps=1e-05, momentum=0.1, affine=True, track_running_stats=True)\n",
       "  (init_layer): Conv2d(4, 32, kernel_size=(7, 7), stride=(1, 1), padding=(3, 3))\n",
       "  (activation): ReLU()\n",
       "  (init_norm): BatchNorm2d(32, eps=1e-05, momentum=0.1, affine=True, track_running_stats=True)\n",
       "  (dropout): Dropout(p=0.5)\n",
       "  (recurrent_activation): Tanh()\n",
       "  (output_layer): Conv2d(32, 1, kernel_size=(3, 3), stride=(1, 1), padding=(1, 1))\n",
       ")"
      ]
     },
     "execution_count": 20,
     "metadata": {},
     "output_type": "execute_result"
    }
   ],
   "source": [
    "# model = torch.load('../weights/onera/3dconv_seg.pt')\n",
    "model = UNetClassify(input_size=64, layers=4, init_filters=32, init_val=0.5).cuda()\n",
    "weights = torch.load('../weights/buildings_change/unet3d_4band_5dates_dice.pt')\n",
    "model.load_state_dict(weights)\n",
    "model.eval()"
   ]
  },
  {
   "cell_type": "code",
   "execution_count": 21,
   "metadata": {},
   "outputs": [
    {
     "name": "stdout",
     "output_type": "stream",
     "text": [
      "(4, 5, 6794, 7884) (6794, 7884)\n"
     ]
    }
   ],
   "source": [
    "dataset = full_buildings_loader('../datasets/buildings_change/')"
   ]
  },
  {
   "cell_type": "code",
   "execution_count": 27,
   "metadata": {},
   "outputs": [
    {
     "name": "stderr",
     "output_type": "stream",
     "text": [
      "/usr/local/lib/python3.5/dist-packages/torch/nn/functional.py:1890: UserWarning: nn.functional.upsample is deprecated. Use nn.functional.interpolate instead.\n",
      "  warnings.warn(\"nn.functional.upsample is deprecated. Use nn.functional.interpolate instead.\")\n",
      "/usr/local/lib/python3.5/dist-packages/torch/nn/functional.py:1961: UserWarning: Default upsampling behavior when mode=bilinear is changed to align_corners=False since 0.4.0. Please specify align_corners=True if the old behavior is desired. See the documentation of nn.Upsample for details.\n",
      "  \"See the documentation of nn.Upsample for details.\".format(mode))\n",
      "/usr/local/lib/python3.5/dist-packages/torch/nn/functional.py:1006: UserWarning: nn.functional.sigmoid is deprecated. Use torch.sigmoid instead.\n",
      "  warnings.warn(\"nn.functional.sigmoid is deprecated. Use torch.sigmoid instead.\")\n"
     ]
    },
    {
     "name": "stdout",
     "output_type": "stream",
     "text": [
      "0\n",
      "1\n",
      "2\n",
      "3\n",
      "4\n",
      "5\n",
      "6\n",
      "7\n",
      "8\n",
      "9\n",
      "10\n",
      "11\n",
      "12\n",
      "13\n",
      "14\n",
      "15\n",
      "16\n",
      "17\n",
      "18\n",
      "19\n",
      "20\n",
      "21\n",
      "22\n",
      "23\n",
      "24\n",
      "25\n",
      "26\n",
      "27\n",
      "28\n",
      "29\n",
      "30\n",
      "31\n",
      "32\n",
      "33\n",
      "34\n",
      "35\n",
      "36\n",
      "37\n",
      "38\n",
      "39\n",
      "40\n",
      "41\n",
      "42\n",
      "43\n",
      "44\n",
      "45\n",
      "46\n",
      "47\n",
      "48\n",
      "49\n",
      "50\n",
      "51\n",
      "52\n",
      "53\n",
      "54\n",
      "55\n",
      "56\n",
      "57\n",
      "58\n",
      "59\n",
      "60\n",
      "61\n",
      "62\n",
      "63\n",
      "64\n",
      "65\n",
      "66\n",
      "67\n",
      "68\n",
      "69\n",
      "70\n",
      "71\n",
      "72\n",
      "73\n",
      "74\n",
      "75\n",
      "76\n",
      "77\n",
      "78\n",
      "79\n",
      "80\n",
      "81\n",
      "82\n",
      "83\n",
      "84\n",
      "85\n",
      "86\n",
      "87\n",
      "88\n",
      "89\n",
      "90\n",
      "91\n",
      "92\n",
      "93\n",
      "94\n",
      "95\n",
      "96\n",
      "97\n",
      "98\n",
      "99\n"
     ]
    },
    {
     "data": {
      "image/png": "[encoded data removed]",
      "text/plain": [
       "<Figure size 432x288 with 1 Axes>"
      ]
     },
     "metadata": {
      "needs_background": "light"
     },
     "output_type": "display_data"
    },
    {
     "data": {
      "image/png": "[encoded data removed]",
      "text/plain": [
       "<Figure size 432x288 with 1 Axes>"
      ]
     },
     "metadata": {
      "needs_background": "light"
     },
     "output_type": "display_data"
    }
   ],
   "source": [
    "# img = np.transpose(np.asarray([dataset['images']]), (2,0,1,3,4))\n",
    "label = dataset['labels']\n",
    "out = np.zeros((img.shape[3],img.shape[4]))\n",
    "count = 0\n",
    "for i in range(0,img.shape[3],64):\n",
    "    for j in range(0,img.shape[4],64):\n",
    "        if i + 64 < img.shape[3] and j + 64 < img.shape[4]:\n",
    "            patch = torch.from_numpy(img[:,:,:,i:i+64, j:j+64]).cuda()\n",
    "            logits = model(patch)\n",
    "#                 print (logits.min(),logits.max())\n",
    "            pred = F.sigmoid(logits) > 0.5\n",
    "#             print (pred.size())\n",
    "            pred = pred.data.cpu().numpy()[0][0]\n",
    "            out[i:i+64,j:j+64] = pred\n",
    "            count += 1\n",
    "            if count == 100:\n",
    "                break\n",
    "    if count == 100:\n",
    "        break\n",
    "plt.imshow(out)\n",
    "plt.show()\n",
    "plt.imshow(label)\n",
    "plt.show()"
   ]
  },
  {
   "cell_type": "code",
   "execution_count": 42,
   "metadata": {},
   "outputs": [
    {
     "data": {
      "text/plain": [
       "<matplotlib.image.AxesImage at 0x7f18704426d8>"
      ]
     },
     "execution_count": 42,
     "metadata": {},
     "output_type": "execute_result"
    },
    {
     "data": {
      "image/png": "[encoded data removed]",
      "text/plain": [
       "<Figure size 432x288 with 1 Axes>"
      ]
     },
     "metadata": {
      "needs_background": "light"
     },
     "output_type": "display_data"
    }
   ],
   "source": [
    "\n",
    "plt.imshow(model.state_dict()['recurrent_weights'].data.cpu().numpy()[0])"
   ]
  },
  {
   "cell_type": "code",
   "execution_count": 19,
   "metadata": {},
   "outputs": [
    {
     "data": {
      "text/plain": [
       "<matplotlib.image.AxesImage at 0x7f7ef55284e0>"
      ]
     },
     "execution_count": 19,
     "metadata": {},
     "output_type": "execute_result"
    },
    {
     "data": {
      "image/png": "[encoded data removed]",
      "text/plain": [
       "<Figure size 432x288 with 1 Axes>"
      ]
     },
     "metadata": {
      "needs_background": "light"
     },
     "output_type": "display_data"
    }
   ],
   "source": [
    "plt.imshow(weights['recurrent_weights'].data.cpu().numpy()[0])"
   ]
  },
  {
   "cell_type": "code",
   "execution_count": 10,
   "metadata": {},
   "outputs": [
    {
     "data": {
      "text/plain": [
       "odict_keys(['recurrent_weights', 'down_layers.0.recurrent_weights', 'down_layers.0.conv1.weight', 'down_layers.0.conv1.bias', 'down_layers.0.norm1.weight', 'down_layers.0.norm1.bias', 'down_layers.0.norm1.running_mean', 'down_layers.0.norm1.running_var', 'down_layers.0.norm1.num_batches_tracked', 'down_layers.0.conv2.weight', 'down_layers.0.conv2.bias', 'down_layers.0.norm2.weight', 'down_layers.0.norm2.bias', 'down_layers.0.norm2.running_mean', 'down_layers.0.norm2.running_var', 'down_layers.0.norm2.num_batches_tracked', 'down_layers.1.recurrent_weights', 'down_layers.1.conv1.weight', 'down_layers.1.conv1.bias', 'down_layers.1.norm1.weight', 'down_layers.1.norm1.bias', 'down_layers.1.norm1.running_mean', 'down_layers.1.norm1.running_var', 'down_layers.1.norm1.num_batches_tracked', 'down_layers.1.conv2.weight', 'down_layers.1.conv2.bias', 'down_layers.1.norm2.weight', 'down_layers.1.norm2.bias', 'down_layers.1.norm2.running_mean', 'down_layers.1.norm2.running_var', 'down_layers.1.norm2.num_batches_tracked', 'down_layers.2.recurrent_weights', 'down_layers.2.conv1.weight', 'down_layers.2.conv1.bias', 'down_layers.2.norm1.weight', 'down_layers.2.norm1.bias', 'down_layers.2.norm1.running_mean', 'down_layers.2.norm1.running_var', 'down_layers.2.norm1.num_batches_tracked', 'down_layers.2.conv2.weight', 'down_layers.2.conv2.bias', 'down_layers.2.norm2.weight', 'down_layers.2.norm2.bias', 'down_layers.2.norm2.running_mean', 'down_layers.2.norm2.running_var', 'down_layers.2.norm2.num_batches_tracked', 'down_layers.3.recurrent_weights', 'down_layers.3.conv1.weight', 'down_layers.3.conv1.bias', 'down_layers.3.norm1.weight', 'down_layers.3.norm1.bias', 'down_layers.3.norm1.running_mean', 'down_layers.3.norm1.running_var', 'down_layers.3.norm1.num_batches_tracked', 'down_layers.3.conv2.weight', 'down_layers.3.conv2.bias', 'down_layers.3.norm2.weight', 'down_layers.3.norm2.bias', 'down_layers.3.norm2.running_mean', 'down_layers.3.norm2.running_var', 'down_layers.3.norm2.num_batches_tracked', 'up_layers.0.conv1.weight', 'up_layers.0.conv1.bias', 'up_layers.0.norm1.weight', 'up_layers.0.norm1.bias', 'up_layers.0.norm1.running_mean', 'up_layers.0.norm1.running_var', 'up_layers.0.norm1.num_batches_tracked', 'up_layers.0.conv2.weight', 'up_layers.0.conv2.bias', 'up_layers.0.norm2.weight', 'up_layers.0.norm2.bias', 'up_layers.0.norm2.running_mean', 'up_layers.0.norm2.running_var', 'up_layers.0.norm2.num_batches_tracked', 'up_layers.0.upconv.weight', 'up_layers.0.upconv.bias', 'up_layers.0.upnorm.weight', 'up_layers.0.upnorm.bias', 'up_layers.0.upnorm.running_mean', 'up_layers.0.upnorm.running_var', 'up_layers.0.upnorm.num_batches_tracked', 'up_layers.1.conv1.weight', 'up_layers.1.conv1.bias', 'up_layers.1.norm1.weight', 'up_layers.1.norm1.bias', 'up_layers.1.norm1.running_mean', 'up_layers.1.norm1.running_var', 'up_layers.1.norm1.num_batches_tracked', 'up_layers.1.conv2.weight', 'up_layers.1.conv2.bias', 'up_layers.1.norm2.weight', 'up_layers.1.norm2.bias', 'up_layers.1.norm2.running_mean', 'up_layers.1.norm2.running_var', 'up_layers.1.norm2.num_batches_tracked', 'up_layers.1.upconv.weight', 'up_layers.1.upconv.bias', 'up_layers.1.upnorm.weight', 'up_layers.1.upnorm.bias', 'up_layers.1.upnorm.running_mean', 'up_layers.1.upnorm.running_var', 'up_layers.1.upnorm.num_batches_tracked', 'up_layers.2.conv1.weight', 'up_layers.2.conv1.bias', 'up_layers.2.norm1.weight', 'up_layers.2.norm1.bias', 'up_layers.2.norm1.running_mean', 'up_layers.2.norm1.running_var', 'up_layers.2.norm1.num_batches_tracked', 'up_layers.2.conv2.weight', 'up_layers.2.conv2.bias', 'up_layers.2.norm2.weight', 'up_layers.2.norm2.bias', 'up_layers.2.norm2.running_mean', 'up_layers.2.norm2.running_var', 'up_layers.2.norm2.num_batches_tracked', 'up_layers.2.upconv.weight', 'up_layers.2.upconv.bias', 'up_layers.2.upnorm.weight', 'up_layers.2.upnorm.bias', 'up_layers.2.upnorm.running_mean', 'up_layers.2.upnorm.running_var', 'up_layers.2.upnorm.num_batches_tracked', 'up_layers.3.conv1.weight', 'up_layers.3.conv1.bias', 'up_layers.3.norm1.weight', 'up_layers.3.norm1.bias', 'up_layers.3.norm1.running_mean', 'up_layers.3.norm1.running_var', 'up_layers.3.norm1.num_batches_tracked', 'up_layers.3.conv2.weight', 'up_layers.3.conv2.bias', 'up_layers.3.norm2.weight', 'up_layers.3.norm2.bias', 'up_layers.3.norm2.running_mean', 'up_layers.3.norm2.running_var', 'up_layers.3.norm2.num_batches_tracked', 'up_layers.3.upconv.weight', 'up_layers.3.upconv.bias', 'up_layers.3.upnorm.weight', 'up_layers.3.upnorm.bias', 'up_layers.3.upnorm.running_mean', 'up_layers.3.upnorm.running_var', 'up_layers.3.upnorm.num_batches_tracked', 'data_norm.weight', 'data_norm.bias', 'data_norm.running_mean', 'data_norm.running_var', 'data_norm.num_batches_tracked', 'init_layer.weight', 'init_layer.bias', 'init_norm.weight', 'init_norm.bias', 'init_norm.running_mean', 'init_norm.running_var', 'init_norm.num_batches_tracked', 'output_layer.weight', 'output_layer.bias'])"
      ]
     },
     "execution_count": 10,
     "metadata": {},
     "output_type": "execute_result"
    }
   ],
   "source": [
    "weights.keys()"
   ]
  },
  {
   "cell_type": "code",
   "execution_count": null,
   "metadata": {},
   "outputs": [],
   "source": []
  }
 ],
 "metadata": {
  "kernelspec": {
   "display_name": "Python 3",
   "language": "python",
   "name": "python3"
  },
  "language_info": {
   "codemirror_mode": {
    "name": "ipython",
    "version": 3
   },
   "file_extension": ".py",
   "mimetype": "text/x-python",
   "name": "python",
   "nbconvert_exporter": "python",
   "pygments_lexer": "ipython3",
   "version": "3.5.2"
  }
 },
 "nbformat": 4,
 "nbformat_minor": 2
}
