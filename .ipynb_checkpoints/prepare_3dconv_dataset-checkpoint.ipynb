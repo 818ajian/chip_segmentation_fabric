{
 "cells": [
  {
   "cell_type": "code",
   "execution_count": 11,
   "metadata": {},
   "outputs": [],
   "source": [
    "import rasterio\n",
    "\n",
    "import os\n",
    "import numpy as np\n",
    "import glob\n",
    "import csv"
   ]
  },
  {
   "cell_type": "code",
   "execution_count": 12,
   "metadata": {},
   "outputs": [],
   "source": [
    "cities = os.listdir('../datasets/onera/train_labels/')\n",
    "input_size = 32"
   ]
  },
  {
   "cell_type": "code",
   "execution_count": 17,
   "metadata": {},
   "outputs": [
    {
     "name": "stdout",
     "output_type": "stream",
     "text": [
      "0.0220811521931\n"
     ]
    },
    {
     "name": "stderr",
     "output_type": "stream",
     "text": [
      "/usr/local/lib/python3.5/dist-packages/rasterio/__init__.py:217: NotGeoreferencedWarning: Dataset has no geotransform set. The identity matrix may be returned.\n",
      "  s = DatasetReader(path, driver=driver, **kwargs)\n"
     ]
    }
   ],
   "source": [
    "total_change = 0\n",
    "total_pixels = 0\n",
    "train = []\n",
    "for city in cities[:10]:\n",
    "    r = rasterio.open('../datasets/onera/train_labels/' + city + '/cm/' + city + '-cm.tif')\n",
    "    d = r.read()\n",
    "    d = d - 1\n",
    "    total_change += np.sum(d)\n",
    "    total_pixels += r.shape[0] * r.shape[1]\n",
    "    for i in range(r.shape[0]//input_size):\n",
    "        for j in range(r.shape[1]//input_size):\n",
    "            train.append([city, i*32, j*32])\n",
    "print (total_change/total_pixels)\n",
    "\n",
    "test = []\n",
    "for city in cities[10:]:\n",
    "    r = rasterio.open('../datasets/onera/train_labels/' + city + '/cm/' + city + '-cm.tif')\n",
    "    for i in range(r.shape[0]//input_size):\n",
    "        for j in range(r.shape[1]//input_size):\n",
    "            test.append([city, i*32, j*32])"
   ]
  },
  {
   "cell_type": "code",
   "execution_count": 14,
   "metadata": {},
   "outputs": [
    {
     "data": {
      "text/plain": [
       "(3739, 2328)"
      ]
     },
     "execution_count": 14,
     "metadata": {},
     "output_type": "execute_result"
    }
   ],
   "source": [
    "len(train), len(test)"
   ]
  },
  {
   "cell_type": "code",
   "execution_count": 15,
   "metadata": {},
   "outputs": [],
   "source": [
    "fout = open('../datasets/onera/train.csv', 'w')\n",
    "w = csv.writer(fout)\n",
    "for t in train:\n",
    "    w.writerow(t)\n",
    "fout.close()\n",
    "\n",
    "fout = open('../datasets/onera/test.csv', 'w')\n",
    "w = csv.writer(fout)\n",
    "for t in test:\n",
    "    w.writerow(t)\n",
    "fout.close()"
   ]
  },
  {
   "cell_type": "code",
   "execution_count": null,
   "metadata": {},
   "outputs": [],
   "source": []
  }
 ],
 "metadata": {
  "kernelspec": {
   "display_name": "Python 3",
   "language": "python",
   "name": "python3"
  },
  "language_info": {
   "codemirror_mode": {
    "name": "ipython",
    "version": 3
   },
   "file_extension": ".py",
   "mimetype": "text/x-python",
   "name": "python",
   "nbconvert_exporter": "python",
   "pygments_lexer": "ipython3",
   "version": "3.5.2"
  }
 },
 "nbformat": 4,
 "nbformat_minor": 2
}
