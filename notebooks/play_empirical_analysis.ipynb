{
 "cells": [
  {
   "cell_type": "code",
   "execution_count": 11,
   "metadata": {},
   "outputs": [],
   "source": [
    "import os\n",
    "import rasterio\n",
    "import cv2\n",
    "import numpy as np\n",
    "\n",
    "%matplotlib inline\n",
    "import matplotlib.pyplot as plt"
   ]
  },
  {
   "cell_type": "code",
   "execution_count": 8,
   "metadata": {},
   "outputs": [],
   "source": [
    "data_path = '../../../Downloads/cd_out/'\n",
    "tiles = os.listdir(data_path)"
   ]
  },
  {
   "cell_type": "code",
   "execution_count": 7,
   "metadata": {},
   "outputs": [
    {
     "name": "stdout",
     "output_type": "stream",
     "text": [
      "T51RTM_20151126T024032_20181001T023551.tif\n",
      "T51RTM_20151126T024032_20171225T024121.tif\n",
      "T51RTM_20170228T023631_20181001T023551.tif\n",
      "T51RTM_20151126T024032_20170228T023631.tif\n",
      "T51RTM_20170228T023631_20171225T024121.tif\n",
      "T51RTM_20171225T024121_20181001T023551.tif\n"
     ]
    }
   ],
   "source": [
    "for tile in tiles:\n",
    "    if 'T51RTM' in tile:\n",
    "        print (tile)"
   ]
  },
  {
   "cell_type": "code",
   "execution_count": 10,
   "metadata": {},
   "outputs": [],
   "source": [
    "a_b = rasterio.open(data_path + 'T51RTM_20151126T024032_20170228T023631.tif').read()[0]\n",
    "b_c = rasterio.open(data_path + 'T51RTM_20170228T023631_20171225T024121.tif').read()[0]\n",
    "c_d = rasterio.open(data_path + 'T51RTM_20171225T024121_20181001T023551.tif').read()[0]\n",
    "a_d = rasterio.open(data_path + 'T51RTM_20151126T024032_20181001T023551.tif').read()[0]"
   ]
  },
  {
   "cell_type": "code",
   "execution_count": 14,
   "metadata": {},
   "outputs": [],
   "source": [
    "sx, ex = 0, 1000\n",
    "sy, ey = 0, 1000"
   ]
  },
  {
   "cell_type": "code",
   "execution_count": 15,
   "metadata": {},
   "outputs": [
    {
     "data": {
      "text/plain": [
       "Text(0.5,1,'201511-20810')"
      ]
     },
     "execution_count": 15,
     "metadata": {},
     "output_type": "execute_result"
    },
    {
     "data": {
      "image/png": "[encoded data removed]",
      "text/plain": [
       "<matplotlib.figure.Figure at 0x11bbdd7b8>"
      ]
     },
     "metadata": {},
     "output_type": "display_data"
    }
   ],
   "source": [
    "f = plt.figure(figsize=(15,10))\n",
    "\n",
    "\n",
    "f.add_subplot(1,4,1)\n",
    "plt.imshow(a_b[sx:ex,sy:ey])\n",
    "plt.axis('off')\n",
    "plt.title('201511-201702')\n",
    "\n",
    "f.add_subplot(1,4,2)\n",
    "plt.imshow(b_c[sx:ex,sy:ey])\n",
    "plt.axis('off')\n",
    "plt.title('201702-201712')\n",
    "\n",
    "f.add_subplot(1,4,3)\n",
    "plt.imshow(c_d[sx:ex,sy:ey])\n",
    "plt.axis('off')\n",
    "plt.title('201712-201810')\n",
    "\n",
    "f.add_subplot(1,4,4)\n",
    "plt.imshow(a_d[sx:ex,sy:ey])\n",
    "plt.axis('off')\n",
    "plt.title('201511-20810')"
   ]
  },
  {
   "cell_type": "code",
   "execution_count": null,
   "metadata": {},
   "outputs": [],
   "source": []
  }
 ],
 "metadata": {
  "kernelspec": {
   "display_name": "Python 3",
   "language": "python",
   "name": "python3"
  },
  "language_info": {
   "codemirror_mode": {
    "name": "ipython",
    "version": 3
   },
   "file_extension": ".py",
   "mimetype": "text/x-python",
   "name": "python",
   "nbconvert_exporter": "python",
   "pygments_lexer": "ipython3",
   "version": "3.6.4"
  }
 },
 "nbformat": 4,
 "nbformat_minor": 2
}
