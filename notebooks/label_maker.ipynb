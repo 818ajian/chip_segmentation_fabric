{
 "cells": [
  {
   "cell_type": "code",
   "execution_count": 35,
   "metadata": {},
   "outputs": [],
   "source": [
    "import rasterio\n",
    "import os\n",
    "import json\n",
    "from shapely.geometry import Polygon\n",
    "import numpy as np\n",
    "import gzip"
   ]
  },
  {
   "cell_type": "code",
   "execution_count": 2,
   "metadata": {},
   "outputs": [],
   "source": [
    "data_dir = '../../datasets/onera/images/'\n",
    "cities = os.listdir(data_dir)"
   ]
  },
  {
   "cell_type": "code",
   "execution_count": 19,
   "metadata": {},
   "outputs": [
    {
     "name": "stdout",
     "output_type": "stream",
     "text": [
      "cupertino (-122.05372810363768, 37.29761247853017, -121.97330474853516, 37.40125554281722)\n",
      "bercy (2.35931396484375, 48.82065440440466, 2.4011993408203125, 48.86663445988588)\n",
      "abudhabi (54.540252685546875, 24.291407914292037, 54.61406707763672, 24.366488081551143)\n",
      "hongkong (114.22811508178711, 22.276389027850755, 114.27858352661131, 22.34134341446177)\n",
      "saclay_e (2.21743583679, 48.66681805477507, 2.2964859008789062, 48.74026689109608)\n",
      "lasvegas (-115.27233123779295, 35.98272917308846, -115.20040512084961, 36.06547452904167)\n",
      "paris (2.3101329803466797, 48.79759200667088, 2.3555374145507812, 48.845061852890524)\n",
      "nantes (-1.5773963928222656, 47.175595157859455, -1.5121650695800781, 47.234139960174616)\n",
      "dubai (55.19376754760742, 25.0003719913183, 55.253849029541016, 25.073782645952882)\n",
      "aguasclaras (-48.049821853637695, -15.859636595173626, -48.00158500671387, -15.816368703814689)\n",
      "montpellier (3.8790321350097656, 43.57777938919194, 3.927783966064453, 43.623898620281366)\n",
      "beihai (109.4839096069336, 21.531653397583106, 109.5560073852539, 21.615940981653758)\n",
      "brasilia (-47.90768623352051, -15.766483542885926, -47.86459922790527, -15.726748339930374)\n",
      "bordeaux (-0.6009864807128906, 44.810583121135906, -0.5508613586425781, 44.86681967562225)\n",
      "mumbai (72.90166854858398, 19.02560799192205, 72.95333862304688, 19.105270320255578)\n",
      "saclay_w (2.138385772705078, 48.66681805477507, 2.21743583679, 48.74026689109608)\n",
      "beirut (35.46180725097656, 33.80140293756829, 35.56772232055664, 33.918149900925556)\n",
      "rio (-43.403377532958984, -22.98462936237051, -43.36329460144042, -22.951438332269273)\n",
      "pisa (10.363025665283203, 43.674824840428265, 10.44027328491211, 43.75832475194815)\n",
      "milano (9.144916534423828, 45.47289204060055, 9.20654296875, 45.53304838316756)\n",
      "chongqing (106.26972198486328, 29.379183431737633, 106.32225036621092, 29.449762750751052)\n",
      "rennes (-1.6851997375488281, 48.093789064833196, -1.6209983825683594, 48.13252782014134)\n",
      "valencia (-0.4460620880126953, 39.48165297689071, -0.39713859558105463, 39.528738321820946)\n",
      "norcia (13.072099685668945, 42.78078728488571, 13.113727569580078, 42.80686217357154)\n"
     ]
    }
   ],
   "source": [
    "for city in cities:\n",
    "    if 'ipynb' not in city:\n",
    "        fin = open(data_dir + city + '/' + city + '.geojson', 'r')\n",
    "        data = json.load(fin)\n",
    "        fin.close()\n",
    "        polygon = Polygon(data['features'][0]['geometry']['coordinates'][0])\n",
    "        print (city, polygon.bounds)"
   ]
  },
  {
   "cell_type": "code",
   "execution_count": 40,
   "metadata": {},
   "outputs": [
    {
     "data": {
      "text/plain": [
       "['cupertino',\n",
       " 'bercy',\n",
       " 'abudhabi',\n",
       " 'hongkong',\n",
       " 'saclay_e',\n",
       " 'lasvegas',\n",
       " 'paris',\n",
       " 'nantes',\n",
       " 'dubai',\n",
       " 'aguasclaras',\n",
       " 'montpellier',\n",
       " 'beihai',\n",
       " 'brasilia',\n",
       " 'bordeaux',\n",
       " 'mumbai',\n",
       " 'saclay_w',\n",
       " 'beirut',\n",
       " 'rio',\n",
       " 'pisa',\n",
       " 'milano',\n",
       " 'chongqing',\n",
       " 'rennes',\n",
       " 'valencia',\n",
       " 'norcia']"
      ]
     },
     "execution_count": 40,
     "metadata": {},
     "output_type": "execute_result"
    }
   ],
   "source": []
  },
  {
   "cell_type": "code",
   "execution_count": null,
   "metadata": {},
   "outputs": [],
   "source": []
  },
  {
   "cell_type": "code",
   "execution_count": 23,
   "metadata": {},
   "outputs": [],
   "source": []
  },
  {
   "cell_type": "code",
   "execution_count": null,
   "metadata": {},
   "outputs": [],
   "source": []
  },
  {
   "cell_type": "code",
   "execution_count": null,
   "metadata": {},
   "outputs": [],
   "source": []
  },
  {
   "cell_type": "code",
   "execution_count": null,
   "metadata": {},
   "outputs": [],
   "source": []
  }
 ],
 "metadata": {
  "kernelspec": {
   "display_name": "Python 3",
   "language": "python",
   "name": "python3"
  },
  "language_info": {
   "codemirror_mode": {
    "name": "ipython",
    "version": 3
   },
   "file_extension": ".py",
   "mimetype": "text/x-python",
   "name": "python",
   "nbconvert_exporter": "python",
   "pygments_lexer": "ipython3",
   "version": "3.5.2"
  }
 },
 "nbformat": 4,
 "nbformat_minor": 2
}
