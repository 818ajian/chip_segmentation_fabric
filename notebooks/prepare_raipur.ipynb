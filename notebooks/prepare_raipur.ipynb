{
 "cells": [
  {
   "cell_type": "code",
   "execution_count": 1,
   "metadata": {},
   "outputs": [],
   "source": [
    "import rasterio\n",
    "import os\n",
    "import numpy as np\n",
    "import cv2\n",
    "import glob\n",
    "import collections\n",
    "\n",
    "%matplotlib inline\n",
    "import matplotlib.pyplot as plt\n",
    "\n",
    "import sys\n",
    "sys.path.append('../../GranularData/')\n",
    "\n",
    "from utils import match"
   ]
  },
  {
   "cell_type": "code",
   "execution_count": 2,
   "metadata": {},
   "outputs": [],
   "source": [
    "path1 = '../datasets/raipur/S2A_MSIL1C_20170101T050212_N0204_R119_T44QNJ_20170101T050737.SAFE'\n",
    "safes = os.listdir('../datasets/raipur/')\n",
    "\n",
    "safes_map = {}\n",
    "for safe in safes:\n",
    "    if 'SAFE' in safe and 'R119' in safe:\n",
    "        date = safe.split('_')[2]\n",
    "        safes_map[date] = safe\n",
    "    \n",
    "safes_sorted = collections.OrderedDict(sorted(safes_map.items()))"
   ]
  },
  {
   "cell_type": "code",
   "execution_count": 3,
   "metadata": {},
   "outputs": [],
   "source": [
    "def stretch_8bit(bands, lower_percent=5, higher_percent=95):\n",
    "    \"\"\"stretch_8bit takes a 3 band image (as an array) and returns an 8bit array with clipped values (5-95%) stretched to 0-255\n",
    "\n",
    "    Parameters\n",
    "    ----------\n",
    "    bands : numpy.array\n",
    "        Numpy array of shape  (*,*,3)\n",
    "    lower_percent : type\n",
    "        Lower threshold below which array values will be discarded (the default is 5).\n",
    "    higher_percent : type\n",
    "        Upper threshold above which array values will be discarded (the default is 95).\n",
    "\n",
    "    Returns\n",
    "    -------\n",
    "    numpy.array\n",
    "        Numpy array containing np.uint8 values of shape bands.shape\n",
    "\n",
    "    \"\"\"\n",
    "    out = np.zeros_like(bands)\n",
    "    for i in range(3):\n",
    "        a = 0\n",
    "        b = 255\n",
    "        real_values = bands[:,:,i].flatten()\n",
    "        real_values = real_values[real_values > 0]\n",
    "        c = np.percentile(real_values, lower_percent)\n",
    "        d = np.percentile(real_values, higher_percent)\n",
    "        t = a + (bands[:,:,i] - c) * (b - a) / (d - c)\n",
    "        t[t<a] = a\n",
    "        t[t>b] = b\n",
    "        out[:,:,i] =t\n",
    "    return out.astype(np.uint8)"
   ]
  },
  {
   "cell_type": "code",
   "execution_count": null,
   "metadata": {},
   "outputs": [],
   "source": []
  },
  {
   "cell_type": "code",
   "execution_count": 4,
   "metadata": {},
   "outputs": [],
   "source": [
    "for safe in safes:\n",
    "    if 'SAFE' in safe and 'R119' in safe:\n",
    "        date = safe.split('_')[2]\n",
    "        \n",
    "        base_name = glob.glob('../datasets/raipur/' + safe + \"/GRANULE/**/IMG_DATA/**.jp2\")[0][:-7]\n",
    "        b02 = rasterio.open(base_name + 'B02.jp2')\n",
    "        b03 = rasterio.open(base_name + 'B03.jp2')\n",
    "        b04 = rasterio.open(base_name + 'B04.jp2')\n",
    "        \n",
    "        r = b02.read()[0]\n",
    "        g = b03.read()[0]\n",
    "        b = b04.read()[0]\n",
    "        \n",
    "        rgb = cv2.merge([r,g,b])\n",
    "        \n",
    "        rgb_scaled = stretch_8bit(rgb, 2, 98)\n",
    "        \n",
    "        cv2.imwrite('../datasets/raipur_pngs_crop/' + date + '.png', rgb_scaled[5100:7000, 7200:8800, :])"
   ]
  },
  {
   "cell_type": "code",
   "execution_count": null,
   "metadata": {},
   "outputs": [],
   "source": []
  },
  {
   "cell_type": "code",
   "execution_count": null,
   "metadata": {},
   "outputs": [],
   "source": []
  },
  {
   "cell_type": "code",
   "execution_count": null,
   "metadata": {},
   "outputs": [],
   "source": []
  },
  {
   "cell_type": "code",
   "execution_count": null,
   "metadata": {},
   "outputs": [],
   "source": []
  }
 ],
 "metadata": {
  "kernelspec": {
   "display_name": "Python 3",
   "language": "python",
   "name": "python3"
  },
  "language_info": {
   "codemirror_mode": {
    "name": "ipython",
    "version": 3
   },
   "file_extension": ".py",
   "mimetype": "text/x-python",
   "name": "python",
   "nbconvert_exporter": "python",
   "pygments_lexer": "ipython3",
   "version": "3.5.2"
  }
 },
 "nbformat": 4,
 "nbformat_minor": 2
}
