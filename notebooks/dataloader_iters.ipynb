{
 "cells": [
  {
   "cell_type": "code",
   "execution_count": 3,
   "metadata": {},
   "outputs": [],
   "source": [
    "import sys\n",
    "sys.path.append('../')\n",
    "from utils.dataloaders import *"
   ]
  },
  {
   "cell_type": "code",
   "execution_count": 4,
   "metadata": {},
   "outputs": [
    {
     "name": "stdout",
     "output_type": "stream",
     "text": [
      "(2, 13, 408, 390)\n",
      "(2, 13, 395, 360)\n",
      "(2, 13, 339, 563)\n",
      "(2, 13, 517, 461)\n",
      "(2, 13, 639, 688)\n",
      "(2, 13, 522, 582)\n",
      "(2, 13, 695, 540)\n",
      "(2, 13, 471, 525)\n",
      "(2, 13, 799, 785)\n",
      "(2, 13, 858, 557)\n",
      "(2, 13, 902, 772)\n",
      "(2, 13, 776, 718)\n",
      "(2, 13, 1015, 788)\n",
      "(2, 13, 1180, 1070)\n"
     ]
    }
   ],
   "source": [
    "data_dir = '../../datasets/onera/'\n",
    "full_load = full_onera_loader(data_dir)"
   ]
  },
  {
   "cell_type": "code",
   "execution_count": null,
   "metadata": {},
   "outputs": [],
   "source": []
  }
 ],
 "metadata": {
  "kernelspec": {
   "display_name": "Python 3",
   "language": "python",
   "name": "python3"
  },
  "language_info": {
   "codemirror_mode": {
    "name": "ipython",
    "version": 3
   },
   "file_extension": ".py",
   "mimetype": "text/x-python",
   "name": "python",
   "nbconvert_exporter": "python",
   "pygments_lexer": "ipython3",
   "version": "3.5.2"
  }
 },
 "nbformat": 4,
 "nbformat_minor": 2
}
