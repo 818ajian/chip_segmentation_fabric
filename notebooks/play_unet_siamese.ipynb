{
 "cells": [
  {
   "cell_type": "code",
   "execution_count": 1,
   "metadata": {},
   "outputs": [],
   "source": [
    "import torch\n",
    "import torch.nn as nn\n",
    "import torch.optim as optim\n",
    "import torch.nn.functional as F\n",
    "import numpy as np\n",
    "import cv2 \n",
    "import sys \n",
    "import glob\n",
    "import random\n",
    "\n",
    "%matplotlib inline\n",
    "import matplotlib.pyplot as plt\n",
    "\n",
    "import os\n",
    "import math\n",
    "\n",
    "sys.path.append('../utils')\n",
    "sys.path.append('../models')\n",
    "from dataloaders import *\n",
    "from unet_blocks import *\n",
    "from metrics_and_losses import *\n",
    "\n",
    "\n",
    "import rasterio"
   ]
  },
  {
   "cell_type": "code",
   "execution_count": null,
   "metadata": {},
   "outputs": [],
   "source": []
  },
  {
   "cell_type": "code",
   "execution_count": 2,
   "metadata": {},
   "outputs": [],
   "source": [
    "USE_CUDA = torch.cuda.is_available()\n",
    "DEVICE = 0\n",
    "def w(v):\n",
    "    if USE_CUDA:\n",
    "        return v.cuda(DEVICE)\n",
    "    return v"
   ]
  },
  {
   "cell_type": "code",
   "execution_count": null,
   "metadata": {},
   "outputs": [],
   "source": []
  },
  {
   "cell_type": "code",
   "execution_count": 3,
   "metadata": {},
   "outputs": [
    {
     "data": {
      "text/plain": [
       "UNetClassify(\n",
       "  (down_layers): ModuleList(\n",
       "    (0): UNetDownBlock(\n",
       "      (conv1): Conv2d(32, 64, kernel_size=(3, 3), stride=(1, 1), padding=(1, 1))\n",
       "      (norm1): BatchNorm2d(64, eps=1e-05, momentum=0.1, affine=True, track_running_stats=True)\n",
       "      (conv2): Conv2d(64, 64, kernel_size=(3, 3), stride=(1, 1), padding=(1, 1))\n",
       "      (norm2): BatchNorm2d(64, eps=1e-05, momentum=0.1, affine=True, track_running_stats=True)\n",
       "      (activation): ReLU()\n",
       "      (pool): MaxPool2d(kernel_size=2, stride=2, padding=0, dilation=1, ceil_mode=False)\n",
       "    )\n",
       "    (1): UNetDownBlock(\n",
       "      (conv1): Conv2d(64, 128, kernel_size=(3, 3), stride=(1, 1), padding=(1, 1))\n",
       "      (norm1): BatchNorm2d(128, eps=1e-05, momentum=0.1, affine=True, track_running_stats=True)\n",
       "      (conv2): Conv2d(128, 128, kernel_size=(3, 3), stride=(1, 1), padding=(1, 1))\n",
       "      (norm2): BatchNorm2d(128, eps=1e-05, momentum=0.1, affine=True, track_running_stats=True)\n",
       "      (activation): ReLU()\n",
       "      (pool): MaxPool2d(kernel_size=2, stride=2, padding=0, dilation=1, ceil_mode=False)\n",
       "    )\n",
       "    (2): UNetDownBlock(\n",
       "      (conv1): Conv2d(128, 256, kernel_size=(3, 3), stride=(1, 1), padding=(1, 1))\n",
       "      (norm1): BatchNorm2d(256, eps=1e-05, momentum=0.1, affine=True, track_running_stats=True)\n",
       "      (conv2): Conv2d(256, 256, kernel_size=(3, 3), stride=(1, 1), padding=(1, 1))\n",
       "      (norm2): BatchNorm2d(256, eps=1e-05, momentum=0.1, affine=True, track_running_stats=True)\n",
       "      (activation): ReLU()\n",
       "      (pool): MaxPool2d(kernel_size=2, stride=2, padding=0, dilation=1, ceil_mode=False)\n",
       "    )\n",
       "    (3): UNetDownBlock(\n",
       "      (conv1): Conv2d(256, 512, kernel_size=(3, 3), stride=(1, 1), padding=(1, 1))\n",
       "      (norm1): BatchNorm2d(512, eps=1e-05, momentum=0.1, affine=True, track_running_stats=True)\n",
       "      (conv2): Conv2d(512, 512, kernel_size=(3, 3), stride=(1, 1), padding=(1, 1))\n",
       "      (norm2): BatchNorm2d(512, eps=1e-05, momentum=0.1, affine=True, track_running_stats=True)\n",
       "      (activation): ReLU()\n",
       "      (pool): MaxPool2d(kernel_size=2, stride=2, padding=0, dilation=1, ceil_mode=False)\n",
       "    )\n",
       "    (4): UNetDownBlock(\n",
       "      (conv1): Conv2d(512, 1024, kernel_size=(3, 3), stride=(1, 1), padding=(1, 1))\n",
       "      (norm1): BatchNorm2d(1024, eps=1e-05, momentum=0.1, affine=True, track_running_stats=True)\n",
       "      (conv2): Conv2d(1024, 1024, kernel_size=(3, 3), stride=(1, 1), padding=(1, 1))\n",
       "      (norm2): BatchNorm2d(1024, eps=1e-05, momentum=0.1, affine=True, track_running_stats=True)\n",
       "      (activation): ReLU()\n",
       "      (pool): MaxPool2d(kernel_size=2, stride=2, padding=0, dilation=1, ceil_mode=False)\n",
       "    )\n",
       "    (5): UNetDownBlock(\n",
       "      (conv1): Conv2d(1024, 2048, kernel_size=(3, 3), stride=(1, 1), padding=(1, 1))\n",
       "      (norm1): BatchNorm2d(2048, eps=1e-05, momentum=0.1, affine=True, track_running_stats=True)\n",
       "      (conv2): Conv2d(2048, 2048, kernel_size=(3, 3), stride=(1, 1), padding=(1, 1))\n",
       "      (norm2): BatchNorm2d(2048, eps=1e-05, momentum=0.1, affine=True, track_running_stats=True)\n",
       "      (activation): ReLU()\n",
       "    )\n",
       "  )\n",
       "  (up_layers): ModuleList(\n",
       "    (0): UNetUpBlock(\n",
       "      (conv1): Conv2d(2048, 1024, kernel_size=(3, 3), stride=(1, 1), padding=(1, 1))\n",
       "      (norm1): BatchNorm2d(1024, eps=1e-05, momentum=0.1, affine=True, track_running_stats=True)\n",
       "      (conv2): Conv2d(1024, 1024, kernel_size=(3, 3), stride=(1, 1), padding=(1, 1))\n",
       "      (norm2): BatchNorm2d(1024, eps=1e-05, momentum=0.1, affine=True, track_running_stats=True)\n",
       "      (activation): ReLU()\n",
       "      (upconv): Conv2d(2048, 1024, kernel_size=(3, 3), stride=(1, 1), padding=(1, 1))\n",
       "      (upnorm): BatchNorm2d(1024, eps=1e-05, momentum=0.1, affine=True, track_running_stats=True)\n",
       "    )\n",
       "    (1): UNetUpBlock(\n",
       "      (conv1): Conv2d(1024, 512, kernel_size=(3, 3), stride=(1, 1), padding=(1, 1))\n",
       "      (norm1): BatchNorm2d(512, eps=1e-05, momentum=0.1, affine=True, track_running_stats=True)\n",
       "      (conv2): Conv2d(512, 512, kernel_size=(3, 3), stride=(1, 1), padding=(1, 1))\n",
       "      (norm2): BatchNorm2d(512, eps=1e-05, momentum=0.1, affine=True, track_running_stats=True)\n",
       "      (activation): ReLU()\n",
       "      (upconv): Conv2d(1024, 512, kernel_size=(3, 3), stride=(1, 1), padding=(1, 1))\n",
       "      (upnorm): BatchNorm2d(512, eps=1e-05, momentum=0.1, affine=True, track_running_stats=True)\n",
       "    )\n",
       "    (2): UNetUpBlock(\n",
       "      (conv1): Conv2d(512, 256, kernel_size=(3, 3), stride=(1, 1), padding=(1, 1))\n",
       "      (norm1): BatchNorm2d(256, eps=1e-05, momentum=0.1, affine=True, track_running_stats=True)\n",
       "      (conv2): Conv2d(256, 256, kernel_size=(3, 3), stride=(1, 1), padding=(1, 1))\n",
       "      (norm2): BatchNorm2d(256, eps=1e-05, momentum=0.1, affine=True, track_running_stats=True)\n",
       "      (activation): ReLU()\n",
       "      (upconv): Conv2d(512, 256, kernel_size=(3, 3), stride=(1, 1), padding=(1, 1))\n",
       "      (upnorm): BatchNorm2d(256, eps=1e-05, momentum=0.1, affine=True, track_running_stats=True)\n",
       "    )\n",
       "    (3): UNetUpBlock(\n",
       "      (conv1): Conv2d(256, 128, kernel_size=(3, 3), stride=(1, 1), padding=(1, 1))\n",
       "      (norm1): BatchNorm2d(128, eps=1e-05, momentum=0.1, affine=True, track_running_stats=True)\n",
       "      (conv2): Conv2d(128, 128, kernel_size=(3, 3), stride=(1, 1), padding=(1, 1))\n",
       "      (norm2): BatchNorm2d(128, eps=1e-05, momentum=0.1, affine=True, track_running_stats=True)\n",
       "      (activation): ReLU()\n",
       "      (upconv): Conv2d(256, 128, kernel_size=(3, 3), stride=(1, 1), padding=(1, 1))\n",
       "      (upnorm): BatchNorm2d(128, eps=1e-05, momentum=0.1, affine=True, track_running_stats=True)\n",
       "    )\n",
       "    (4): UNetUpBlock(\n",
       "      (conv1): Conv2d(128, 64, kernel_size=(3, 3), stride=(1, 1), padding=(1, 1))\n",
       "      (norm1): BatchNorm2d(64, eps=1e-05, momentum=0.1, affine=True, track_running_stats=True)\n",
       "      (conv2): Conv2d(64, 64, kernel_size=(3, 3), stride=(1, 1), padding=(1, 1))\n",
       "      (norm2): BatchNorm2d(64, eps=1e-05, momentum=0.1, affine=True, track_running_stats=True)\n",
       "      (activation): ReLU()\n",
       "      (upconv): Conv2d(128, 64, kernel_size=(3, 3), stride=(1, 1), padding=(1, 1))\n",
       "      (upnorm): BatchNorm2d(64, eps=1e-05, momentum=0.1, affine=True, track_running_stats=True)\n",
       "    )\n",
       "    (5): UNetUpBlock(\n",
       "      (conv1): Conv2d(64, 32, kernel_size=(3, 3), stride=(1, 1), padding=(1, 1))\n",
       "      (norm1): BatchNorm2d(32, eps=1e-05, momentum=0.1, affine=True, track_running_stats=True)\n",
       "      (conv2): Conv2d(32, 32, kernel_size=(3, 3), stride=(1, 1), padding=(1, 1))\n",
       "      (norm2): BatchNorm2d(32, eps=1e-05, momentum=0.1, affine=True, track_running_stats=True)\n",
       "      (activation): ReLU()\n",
       "      (upconv): Conv2d(64, 32, kernel_size=(3, 3), stride=(1, 1), padding=(1, 1))\n",
       "      (upnorm): BatchNorm2d(32, eps=1e-05, momentum=0.1, affine=True, track_running_stats=True)\n",
       "    )\n",
       "  )\n",
       "  (data_norm): BatchNorm2d(13, eps=1e-05, momentum=0.1, affine=True, track_running_stats=True)\n",
       "  (init_layer): Conv2d(13, 32, kernel_size=(7, 7), stride=(1, 1), padding=(3, 3))\n",
       "  (activation): ReLU()\n",
       "  (init_norm): BatchNorm2d(32, eps=1e-05, momentum=0.1, affine=True, track_running_stats=True)\n",
       "  (dropout): Dropout(p=0.5)\n",
       "  (output_layer): Conv2d(32, 1, kernel_size=(3, 3), stride=(1, 1), padding=(1, 1))\n",
       ")"
      ]
     },
     "execution_count": 3,
     "metadata": {},
     "output_type": "execute_result"
    }
   ],
   "source": [
    "# model = torch.load('../weights/onera/3dconv_seg.pt')\n",
    "model = w(UNetClassify(layers=6, init_filters=32, num_channels=13, fusion_method='mul', out_dim=1))\n",
    "weights = torch.load('../../weights/onera/unet_siamese_prod_relu_inp64_13band_2dates_focal_hm_cnc_all_14_cities.pt',\n",
    "                    map_location='cuda:0')\n",
    "model.load_state_dict(weights)\n",
    "model.eval()"
   ]
  },
  {
   "cell_type": "code",
   "execution_count": 2,
   "metadata": {},
   "outputs": [],
   "source": [
    "dataset = full_onera_loader('../../datasets/onera/', ['B01','B02', 'B03', 'B04','B05','B06','B07','B08','B8A','B09','B10','B11','B12'])"
   ]
  },
  {
   "cell_type": "code",
   "execution_count": 40,
   "metadata": {},
   "outputs": [],
   "source": [
    "cities = list(dataset.keys())\n",
    "cities.sort()"
   ]
  },
  {
   "cell_type": "code",
   "execution_count": null,
   "metadata": {},
   "outputs": [],
   "source": []
  },
  {
   "cell_type": "code",
   "execution_count": 6,
   "metadata": {},
   "outputs": [
    {
     "ename": "NameError",
     "evalue": "name 'cities' is not defined",
     "output_type": "error",
     "traceback": [
      "\u001b[0;31m---------------------------------------------------------------------------\u001b[0m",
      "\u001b[0;31mNameError\u001b[0m                                 Traceback (most recent call last)",
      "\u001b[0;32m<ipython-input-6-c695e19d28b0>\u001b[0m in \u001b[0;36m<module>\u001b[0;34m()\u001b[0m\n\u001b[1;32m      1\u001b[0m \u001b[0minput_size\u001b[0m \u001b[0;34m=\u001b[0m \u001b[0;36m64\u001b[0m\u001b[0;34m\u001b[0m\u001b[0m\n\u001b[0;32m----> 2\u001b[0;31m \u001b[0;32mfor\u001b[0m \u001b[0mcity\u001b[0m \u001b[0;32min\u001b[0m \u001b[0mcities\u001b[0m\u001b[0;34m[\u001b[0m\u001b[0;36m10\u001b[0m\u001b[0;34m:\u001b[0m\u001b[0;34m]\u001b[0m\u001b[0;34m:\u001b[0m\u001b[0;34m\u001b[0m\u001b[0m\n\u001b[0m\u001b[1;32m      3\u001b[0m     \u001b[0mimg\u001b[0m \u001b[0;34m=\u001b[0m \u001b[0mdataset\u001b[0m\u001b[0;34m[\u001b[0m\u001b[0mcity\u001b[0m\u001b[0;34m]\u001b[0m\u001b[0;34m[\u001b[0m\u001b[0;34m'images'\u001b[0m\u001b[0;34m]\u001b[0m\u001b[0;34m\u001b[0m\u001b[0m\n\u001b[1;32m      4\u001b[0m     \u001b[0mlabel\u001b[0m \u001b[0;34m=\u001b[0m \u001b[0mdataset\u001b[0m\u001b[0;34m[\u001b[0m\u001b[0mcity\u001b[0m\u001b[0;34m]\u001b[0m\u001b[0;34m[\u001b[0m\u001b[0;34m'labels'\u001b[0m\u001b[0;34m]\u001b[0m\u001b[0;34m\u001b[0m\u001b[0m\n\u001b[1;32m      5\u001b[0m     \u001b[0mout\u001b[0m \u001b[0;34m=\u001b[0m \u001b[0mnp\u001b[0m\u001b[0;34m.\u001b[0m\u001b[0mzeros\u001b[0m\u001b[0;34m(\u001b[0m\u001b[0;34m(\u001b[0m\u001b[0mimg\u001b[0m\u001b[0;34m.\u001b[0m\u001b[0mshape\u001b[0m\u001b[0;34m[\u001b[0m\u001b[0;36m2\u001b[0m\u001b[0;34m]\u001b[0m\u001b[0;34m,\u001b[0m\u001b[0mimg\u001b[0m\u001b[0;34m.\u001b[0m\u001b[0mshape\u001b[0m\u001b[0;34m[\u001b[0m\u001b[0;36m3\u001b[0m\u001b[0;34m]\u001b[0m\u001b[0;34m)\u001b[0m\u001b[0;34m)\u001b[0m\u001b[0;34m\u001b[0m\u001b[0m\n",
      "\u001b[0;31mNameError\u001b[0m: name 'cities' is not defined"
     ]
    }
   ],
   "source": [
    "input_size = 64\n",
    "for city in cities[10:]:\n",
    "    img = dataset[city]['images']\n",
    "    label = dataset[city]['labels']\n",
    "    out = np.zeros((img.shape[2],img.shape[3]))\n",
    "    \n",
    "    for i in range(0,img.shape[2]//input_size):\n",
    "        for j in range(0,img.shape[3]//input_size):\n",
    "            if i*input_size + input_size < img.shape[2] and j*input_size + input_size < img.shape[3]:\n",
    "                patch = np.transpose(img[:, : ,i*input_size:i*input_size+input_size, j*input_size:j*input_size+input_size], (1,0,2,3))\n",
    "                inp1 = w(torch.from_numpy(np.asarray([patch[0]])))\n",
    "                inp2 = w(torch.from_numpy(np.asarray([patch[1]])))\n",
    "                logits = model(inp1, inp2)\n",
    "#                 print (logits.min(),logits.max())\n",
    "                pred = F.sigmoid(logits) > 0.5\n",
    "                pred = pred.data.cpu().numpy()[0]\n",
    "                out[i*input_size:i*input_size+input_size,j*input_size:j*input_size+input_size] = pred    \n",
    "                \n",
    "    rgb1 = cv2.merge([img[1][0], img[2][0], img[3][0]])\n",
    "    rgb2 = cv2.merge([img[1][1], img[2][1], img[3][1]])\n",
    "    \n",
    "    \n",
    "\n",
    "    plt.imshow(out)\n",
    "    plt.show()\n",
    "    plt.imshow(label)\n",
    "    plt.show()\n",
    "    "
   ]
  },
  {
   "cell_type": "code",
   "execution_count": 11,
   "metadata": {},
   "outputs": [],
   "source": [
    "test_cities = ['brasilia', 'chongqing', 'dubai', 'lasvegas', 'milano', 'montpellier', 'norcia', 'rio', 'saclay_w', 'valencia']\n",
    "input_size = 64\n",
    "cities_out = {}"
   ]
  },
  {
   "cell_type": "code",
   "execution_count": 12,
   "metadata": {},
   "outputs": [
    {
     "name": "stdout",
     "output_type": "stream",
     "text": [
      "(433, 469) (433, 469)\n"
     ]
    },
    {
     "name": "stderr",
     "output_type": "stream",
     "text": [
      "/usr/local/lib/python3.5/dist-packages/torch/nn/functional.py:1890: UserWarning: nn.functional.upsample is deprecated. Use nn.functional.interpolate instead.\n",
      "  warnings.warn(\"nn.functional.upsample is deprecated. Use nn.functional.interpolate instead.\")\n",
      "/usr/local/lib/python3.5/dist-packages/torch/nn/functional.py:1006: UserWarning: nn.functional.sigmoid is deprecated. Use torch.sigmoid instead.\n",
      "  warnings.warn(\"nn.functional.sigmoid is deprecated. Use torch.sigmoid instead.\")\n"
     ]
    },
    {
     "data": {
      "image/png": "[encoded data removed]",
      "text/plain": [
       "<Figure size 432x288 with 1 Axes>"
      ]
     },
     "metadata": {
      "needs_background": "light"
     },
     "output_type": "display_data"
    },
    {
     "name": "stdout",
     "output_type": "stream",
     "text": [
      "(730, 544) (730, 544)\n"
     ]
    },
    {
     "data": {
      "image/png": "[encoded data removed]",
      "text/plain": [
       "<Figure size 432x288 with 1 Axes>"
      ]
     },
     "metadata": {
      "needs_background": "light"
     },
     "output_type": "display_data"
    },
    {
     "name": "stdout",
     "output_type": "stream",
     "text": [
      "(774, 634) (774, 634)\n"
     ]
    },
    {
     "data": {
      "image/png": "[encoded data removed]",
      "text/plain": [
       "<Figure size 432x288 with 1 Axes>"
      ]
     },
     "metadata": {
      "needs_background": "light"
     },
     "output_type": "display_data"
    },
    {
     "name": "stdout",
     "output_type": "stream",
     "text": [
      "(824, 716) (824, 716)\n"
     ]
    },
    {
     "data": {
      "image/png": "[encoded data removed]",
      "text/plain": [
       "<Figure size 432x288 with 1 Axes>"
      ]
     },
     "metadata": {
      "needs_background": "light"
     },
     "output_type": "display_data"
    },
    {
     "name": "stdout",
     "output_type": "stream",
     "text": [
      "(545, 558) (545, 558)\n"
     ]
    },
    {
     "data": {
      "image/png": "[encoded data removed]",
      "text/plain": [
       "<Figure size 432x288 with 1 Axes>"
      ]
     },
     "metadata": {
      "needs_background": "light"
     },
     "output_type": "display_data"
    },
    {
     "name": "stdout",
     "output_type": "stream",
     "text": [
      "(426, 451) (426, 451)\n"
     ]
    },
    {
     "data": {
      "image/png": "[encoded data removed]",
      "text/plain": [
       "<Figure size 432x288 with 1 Axes>"
      ]
     },
     "metadata": {
      "needs_background": "light"
     },
     "output_type": "display_data"
    },
    {
     "name": "stdout",
     "output_type": "stream",
     "text": [
      "(241, 385) (241, 385)\n"
     ]
    },
    {
     "data": {
      "image/png": "[encoded data removed]",
      "text/plain": [
       "<Figure size 432x288 with 1 Axes>"
      ]
     },
     "metadata": {
      "needs_background": "light"
     },
     "output_type": "display_data"
    },
    {
     "name": "stdout",
     "output_type": "stream",
     "text": [
      "(353, 426) (353, 426)\n"
     ]
    },
    {
     "data": {
      "image/png": "[encoded data removed]",
      "text/plain": [
       "<Figure size 432x288 with 1 Axes>"
      ]
     },
     "metadata": {
      "needs_background": "light"
     },
     "output_type": "display_data"
    },
    {
     "name": "stdout",
     "output_type": "stream",
     "text": [
      "(639, 688) (631, 679)\n"
     ]
    },
    {
     "data": {
      "image/png": "[encoded data removed]",
      "text/plain": [
       "<Figure size 432x288 with 1 Axes>"
      ]
     },
     "metadata": {
      "needs_background": "light"
     },
     "output_type": "display_data"
    },
    {
     "name": "stdout",
     "output_type": "stream",
     "text": [
      "(458, 476) (458, 476)\n"
     ]
    },
    {
     "data": {
      "image/png": "[encoded data removed]",
      "text/plain": [
       "<Figure size 432x288 with 1 Axes>"
      ]
     },
     "metadata": {
      "needs_background": "light"
     },
     "output_type": "display_data"
    }
   ],
   "source": [
    "for city in test_cities:\n",
    "    d1_bands = glob.glob('../../datasets/onera/images/'+ city +'/imgs_1/*.tif')\n",
    "    d1_bands.sort()\n",
    "    \n",
    "    d1b1 = rasterio.open(d1_bands[0])\n",
    "    d1b2 = rasterio.open(d1_bands[1])\n",
    "    d1b3 = rasterio.open(d1_bands[2])\n",
    "    d1b4 = rasterio.open(d1_bands[3])\n",
    "    d1b5 = rasterio.open(d1_bands[4])\n",
    "    d1b6 = rasterio.open(d1_bands[5])\n",
    "    d1b7 = rasterio.open(d1_bands[6])\n",
    "    d1b8 = rasterio.open(d1_bands[7])\n",
    "    d1b8a = rasterio.open(d1_bands[8])\n",
    "    d1b9 = rasterio.open(d1_bands[9])\n",
    "    d1b10 = rasterio.open(d1_bands[10])\n",
    "    d1b11 = rasterio.open(d1_bands[11])\n",
    "    d1b12 = rasterio.open(d1_bands[12])\n",
    "    \n",
    "    d2_bands = glob.glob('../../datasets/onera/images/'+ city +'/imgs_2/*.tif')\n",
    "    d2_bands.sort()\n",
    "    \n",
    "    d2b1 = rasterio.open(d2_bands[0])\n",
    "    d2b2 = rasterio.open(d2_bands[1])\n",
    "    d2b3 = rasterio.open(d2_bands[2])\n",
    "    d2b4 = rasterio.open(d2_bands[3])\n",
    "    d2b5 = rasterio.open(d2_bands[4])\n",
    "    d2b6 = rasterio.open(d2_bands[5])\n",
    "    d2b7 = rasterio.open(d2_bands[6])\n",
    "    d2b8 = rasterio.open(d2_bands[7])\n",
    "    d2b8a = rasterio.open(d2_bands[8])\n",
    "    d2b9 = rasterio.open(d2_bands[9])\n",
    "    d2b10 = rasterio.open(d2_bands[10])\n",
    "    d2b11 = rasterio.open(d2_bands[11])\n",
    "    d2b12 = rasterio.open(d2_bands[12])\n",
    "    \n",
    "    print (d1b2.shape, d2b2.shape)\n",
    "    \n",
    "    d1_b2 = d1b2.read()[0]\n",
    "    d1_b1 = cv2.resize(d1b1.read()[0], (d1_b2.shape[1], d1_b2.shape[0]))\n",
    "    d1_b3 = cv2.resize(d1b3.read()[0], (d1_b2.shape[1], d1_b2.shape[0]))\n",
    "    d1_b4 = cv2.resize(d1b4.read()[0], (d1_b2.shape[1], d1_b2.shape[0]))\n",
    "    d1_b5 = cv2.resize(d1b5.read()[0], (d1_b2.shape[1], d1_b2.shape[0]))\n",
    "    d1_b6 = cv2.resize(d1b6.read()[0], (d1_b2.shape[1], d1_b2.shape[0]))\n",
    "    d1_b7 = cv2.resize(d1b7.read()[0], (d1_b2.shape[1], d1_b2.shape[0]))\n",
    "    d1_b8 = cv2.resize(d1b8.read()[0], (d1_b2.shape[1], d1_b2.shape[0]))\n",
    "    d1_b8a = cv2.resize(d1b8a.read()[0], (d1_b2.shape[1], d1_b2.shape[0]))\n",
    "    d1_b9 = cv2.resize(d1b9.read()[0], (d1_b2.shape[1], d1_b2.shape[0]))\n",
    "    d1_b10 = cv2.resize(d1b10.read()[0], (d1_b2.shape[1], d1_b2.shape[0]))\n",
    "    d1_b11 = cv2.resize(d1b11.read()[0], (d1_b2.shape[1], d1_b2.shape[0]))\n",
    "    d1_b12 = cv2.resize(d1b12.read()[0], (d1_b2.shape[1], d1_b2.shape[0]))\n",
    "    \n",
    "    d2_b2 = cv2.resize(d2b2.read()[0], (d1_b2.shape[1], d1_b2.shape[0]))\n",
    "    d2_b1 = cv2.resize(d2b1.read()[0], (d1_b2.shape[1], d1_b2.shape[0]))\n",
    "    d2_b3 = cv2.resize(d2b3.read()[0], (d1_b2.shape[1], d1_b2.shape[0]))\n",
    "    d2_b4 = cv2.resize(d2b4.read()[0], (d1_b2.shape[1], d1_b2.shape[0]))\n",
    "    d2_b5 = cv2.resize(d2b5.read()[0], (d1_b2.shape[1], d1_b2.shape[0]))\n",
    "    d2_b6 = cv2.resize(d2b6.read()[0], (d1_b2.shape[1], d1_b2.shape[0]))\n",
    "    d2_b7 = cv2.resize(d2b7.read()[0], (d1_b2.shape[1], d1_b2.shape[0]))\n",
    "    d2_b8 = cv2.resize(d2b8.read()[0], (d1_b2.shape[1], d1_b2.shape[0]))\n",
    "    d2_b8a = cv2.resize(d2b8a.read()[0], (d1_b2.shape[1], d1_b2.shape[0]))\n",
    "    d2_b9 = cv2.resize(d2b9.read()[0], (d1_b2.shape[1], d1_b2.shape[0]))\n",
    "    d2_b10 = cv2.resize(d2b10.read()[0], (d1_b2.shape[1], d1_b2.shape[0]))\n",
    "    d2_b11 = cv2.resize(d2b11.read()[0], (d1_b2.shape[1], d1_b2.shape[0]))\n",
    "    d2_b12 = cv2.resize(d2b12.read()[0], (d1_b2.shape[1], d1_b2.shape[0]))\n",
    "    \n",
    "    d2_b1 = match_band(d2_b1, d1_b1)\n",
    "    d2_b2 = match_band(d2_b2, d1_b2)\n",
    "    d2_b3 = match_band(d2_b3, d1_b3)\n",
    "    d2_b4 = match_band(d2_b4, d1_b4)\n",
    "    d2_b5 = match_band(d2_b5, d1_b5)\n",
    "    d2_b6 = match_band(d2_b6, d1_b6)\n",
    "    d2_b7 = match_band(d2_b7, d1_b7)\n",
    "    d2_b8 = match_band(d2_b8, d1_b8)\n",
    "    d2_b8a = match_band(d2_b8a, d1_b8a)\n",
    "    d2_b9 = match_band(d2_b9, d1_b9)\n",
    "    d2_b10 = match_band(d2_b10, d1_b10)\n",
    "    d2_b11 = match_band(d2_b11, d1_b11)\n",
    "    d2_b12 = match_band(d2_b12, d1_b12)\n",
    "    \n",
    "         \n",
    "    d1_b1 = stretch_8bit(d1_b1, 2, 98).astype(np.float32)\n",
    "    d1_b2 = stretch_8bit(d1_b2, 2, 98).astype(np.float32)\n",
    "    d1_b3 = stretch_8bit(d1_b3, 2, 98).astype(np.float32)\n",
    "    d1_b4 = stretch_8bit(d1_b4, 2, 98).astype(np.float32)\n",
    "    d1_b5 = stretch_8bit(d1_b5, 2, 98).astype(np.float32)\n",
    "    d1_b6 = stretch_8bit(d1_b6, 2, 98).astype(np.float32)\n",
    "    d1_b7 = stretch_8bit(d1_b7, 2, 98).astype(np.float32)\n",
    "    d1_b8 = stretch_8bit(d1_b8, 2, 98).astype(np.float32)\n",
    "    d1_b8a = stretch_8bit(d1_b8a, 2, 98).astype(np.float32)\n",
    "    d1_b9 = stretch_8bit(d1_b9, 2, 98).astype(np.float32)\n",
    "    d1_b10 = stretch_8bit(d1_b10, 2, 98).astype(np.float32)\n",
    "    d1_b11 = stretch_8bit(d1_b11, 2, 98).astype(np.float32)\n",
    "    d1_b12 = stretch_8bit(d1_b12, 2, 98).astype(np.float32)\n",
    "\n",
    "    d2_b1 = stretch_8bit(d2_b1, 2, 98).astype(np.float32)\n",
    "    d2_b2 = stretch_8bit(d2_b2, 2, 98).astype(np.float32)\n",
    "    d2_b3 = stretch_8bit(d2_b3, 2, 98).astype(np.float32)\n",
    "    d2_b4 = stretch_8bit(d2_b4, 2, 98).astype(np.float32)\n",
    "    d2_b5 = stretch_8bit(d2_b5, 2, 98).astype(np.float32)\n",
    "    d2_b6 = stretch_8bit(d2_b6, 2, 98).astype(np.float32)\n",
    "    d2_b7 = stretch_8bit(d2_b7, 2, 98).astype(np.float32)\n",
    "    d2_b8 = stretch_8bit(d2_b8, 2, 98).astype(np.float32)\n",
    "    d2_b8a = stretch_8bit(d2_b8a, 2, 98).astype(np.float32)\n",
    "    d2_b9 = stretch_8bit(d2_b9, 2, 98).astype(np.float32)\n",
    "    d2_b10 = stretch_8bit(d2_b10, 2, 98).astype(np.float32)\n",
    "    d2_b11 = stretch_8bit(d2_b11, 2, 98).astype(np.float32)\n",
    "    d2_b12 = stretch_8bit(d2_b12, 2, 98).astype(np.float32)\n",
    "    \n",
    "    img1 = np.asarray([d1_b1, d1_b2, d1_b3, d1_b4, d1_b5, d1_b6, d1_b7, d1_b8, d1_b8a, d1_b9, d1_b10, d1_b11, d1_b12]).astype(np.float32) / 255.\n",
    "    img2 = np.asarray([d2_b1, d2_b2, d2_b3, d2_b4, d2_b5, d2_b6, d2_b7, d2_b8, d2_b8a, d2_b9, d2_b10, d2_b11, d2_b12]).astype(np.float32) / 255.\n",
    "\n",
    "    out = np.zeros((img1.shape[1],img1.shape[2]))\n",
    "    \n",
    "    batches1 = []\n",
    "    batches2 = []\n",
    "    ijs = []\n",
    "    for i in range(0,img1.shape[1],64):\n",
    "        for j in range(0,img1.shape[2],64):\n",
    "            if i+input_size <= img1.shape[1] and j+input_size <= img1.shape[2]:\n",
    "                batches1.append(img1[:,i:i+input_size,j:j+input_size])\n",
    "                batches2.append(img2[:,i:i+input_size,j:j+input_size])\n",
    "                ijs.append([i,j])\n",
    "            elif i+input_size>img1.shape[1] and j+input_size<=img1.shape[2]:\n",
    "                batches1.append(img1[:,img1.shape[1]-input_size:img1.shape[1],j:j+input_size])\n",
    "                batches2.append(img2[:,img2.shape[1]-input_size:img2.shape[1],j:j+input_size])\n",
    "                ijs.append([img1.shape[1]-input_size,j])\n",
    "            elif i+input_size<=img1.shape[1] and j+input_size>img1.shape[2]:\n",
    "                batches1.append(img1[:,i:i+input_size,img1.shape[2]-input_size:img1.shape[2]])\n",
    "                batches2.append(img2[:,i:i+input_size,img2.shape[2]-input_size:img2.shape[2]])\n",
    "                ijs.append([i,img1.shape[2]-input_size])\n",
    "            else:\n",
    "                batches1.append(img1[:,img1.shape[1]-input_size:img1.shape[1],\n",
    "                                     img1.shape[2]-input_size:img1.shape[2]])\n",
    "                batches2.append(img2[:,img2.shape[1]-input_size:img2.shape[1],\n",
    "                                     img2.shape[2]-input_size:img2.shape[2]])\n",
    "                ijs.append([img1.shape[1]-input_size,img1.shape[2]-input_size])\n",
    "                \n",
    "            if len(batches1) == 1:\n",
    "                inp1 = w(torch.from_numpy(np.asarray(batches1)))\n",
    "                inp2 = w(torch.from_numpy(np.asarray(batches2)))\n",
    "#                 print (inp1.size(),inp2.size())\n",
    "                logits = model(inp1, inp2)\n",
    "                pred = F.sigmoid(logits) > 0.5\n",
    "                pred = pred.data.cpu().numpy()\n",
    "                \n",
    "                batches1 = []\n",
    "                batches2 = []\n",
    "                \n",
    "                del inp1\n",
    "                del inp2\n",
    "                \n",
    "                for c in range(len(ijs)):\n",
    "                    out[ijs[c][0]:ijs[c][0]+input_size,ijs[c][1]:ijs[c][1]+input_size] = pred[c]\n",
    "                    \n",
    "                ijs = []\n",
    "    \n",
    "    cities_out[city] = out\n",
    "    plt.imshow(out)\n",
    "    plt.show()\n",
    "    "
   ]
  },
  {
   "cell_type": "code",
   "execution_count": null,
   "metadata": {},
   "outputs": [],
   "source": []
  },
  {
   "cell_type": "code",
   "execution_count": 9,
   "metadata": {},
   "outputs": [
    {
     "name": "stderr",
     "output_type": "stream",
     "text": [
      "/usr/local/lib/python3.5/dist-packages/rasterio/__init__.py:253: NotGeoreferencedWarning: Dataset has no geotransform set. Default transform will be applied (Affine.identity())\n",
      "  **kwargs)\n"
     ]
    }
   ],
   "source": [
    "for city in list(cities_out.keys()):\n",
    "    new_dataset = rasterio.open('../../datasets/onera/results/' + city + '_focal_14dates_s64_13bands_inp64.tif', 'w', driver='GTiff', \n",
    "                                height=cities_out[city].shape[0], width=cities_out[city].shape[1], count=1, dtype=np.uint8)\n",
    "    new_dataset.write(cities_out[city].astype(np.uint8) + 1, 1)\n",
    "    new_dataset.close()"
   ]
  },
  {
   "cell_type": "code",
   "execution_count": null,
   "metadata": {},
   "outputs": [],
   "source": []
  },
  {
   "cell_type": "code",
   "execution_count": null,
   "metadata": {},
   "outputs": [],
   "source": []
  },
  {
   "cell_type": "code",
   "execution_count": null,
   "metadata": {},
   "outputs": [],
   "source": []
  },
  {
   "cell_type": "code",
   "execution_count": null,
   "metadata": {},
   "outputs": [],
   "source": []
  }
 ],
 "metadata": {
  "kernelspec": {
   "display_name": "Python 3",
   "language": "python",
   "name": "python3"
  },
  "language_info": {
   "codemirror_mode": {
    "name": "ipython",
    "version": 3
   },
   "file_extension": ".py",
   "mimetype": "text/x-python",
   "name": "python",
   "nbconvert_exporter": "python",
   "pygments_lexer": "ipython3",
   "version": "3.5.2"
  }
 },
 "nbformat": 4,
 "nbformat_minor": 2
}
