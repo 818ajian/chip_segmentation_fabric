{
 "cells": [
  {
   "cell_type": "code",
   "execution_count": 2,
   "metadata": {},
   "outputs": [],
   "source": [
    "import os\n",
    "import rasterio\n",
    "import cv2\n",
    "import numpy as np\n",
    "%matplotlib inline\n",
    "import matplotlib.pyplot as plt"
   ]
  },
  {
   "cell_type": "code",
   "execution_count": 22,
   "metadata": {},
   "outputs": [],
   "source": [
    "def stretch_8bit(band, lower_percent=5, higher_percent=95):\n",
    "    a = 0\n",
    "    b = 255\n",
    "    real_values = band.flatten()\n",
    "    real_values = real_values[real_values > 0]\n",
    "    c = np.percentile(real_values, lower_percent)\n",
    "    d = np.percentile(real_values, higher_percent)\n",
    "    t = a + (band - c) * (b - a) / (d - c)\n",
    "    t[t<a] = a\n",
    "    t[t>b] = b\n",
    "    return t.astype(np.uint8)"
   ]
  },
  {
   "cell_type": "code",
   "execution_count": 74,
   "metadata": {},
   "outputs": [
    {
     "name": "stdout",
     "output_type": "stream",
     "text": [
      "(5662, 6570) (5662, 6570) (5662, 6570) (6794, 7884) (6794, 7884)\n"
     ]
    }
   ],
   "source": [
    "r06 = rasterio.open('../../datasets/buildings_change/Images/ortho_2006.tif')\n",
    "r07 = rasterio.open('../../datasets/buildings_change/Images/ortho_2007.tif')\n",
    "r09 = rasterio.open('../../datasets/buildings_change/Images/ortho_2009.tif')\n",
    "r10 = rasterio.open('../../datasets/buildings_change/Images/ortho_2010.tif')\n",
    "r11 = rasterio.open('../../datasets/buildings_change/Images/ortho_2011.tif')\n",
    "\n",
    "print (r06.shape, r07.shape, r09.shape, r10.shape, r11.shape)"
   ]
  },
  {
   "cell_type": "code",
   "execution_count": 75,
   "metadata": {},
   "outputs": [],
   "source": [
    "d06 = r06.read()\n",
    "d07 = r07.read()\n",
    "d09 = r09.read()\n",
    "d11 = r11.read()"
   ]
  },
  {
   "cell_type": "code",
   "execution_count": 71,
   "metadata": {},
   "outputs": [
    {
     "data": {
      "text/plain": [
       "True"
      ]
     },
     "execution_count": 71,
     "metadata": {},
     "output_type": "execute_result"
    }
   ],
   "source": [
    "sd06 = []\n",
    "for b in d06:\n",
    "    sd06.append(stretch_8bit(b,0.01,99))\n",
    "rgb06 = cv2.merge([sd06[0], sd06[1], sd06[2]])\n",
    "cv2.imwrite('06.png', rgb06)"
   ]
  },
  {
   "cell_type": "code",
   "execution_count": 79,
   "metadata": {},
   "outputs": [
    {
     "data": {
      "text/plain": [
       "True"
      ]
     },
     "execution_count": 79,
     "metadata": {},
     "output_type": "execute_result"
    }
   ],
   "source": [
    "sd11 = []\n",
    "for b in d11:\n",
    "    sd11.append(stretch_8bit(b,0.01,99))\n",
    "rgb11 = cv2.merge([sd11[0], sd11[1], sd11[2]])\n",
    "cv2.imwrite('11.png', rgb11)"
   ]
  },
  {
   "cell_type": "code",
   "execution_count": 36,
   "metadata": {},
   "outputs": [],
   "source": [
    "sd07 = []\n",
    "for b in d07:\n",
    "    sd07.append(stretch_8bit(b,2,98))"
   ]
  },
  {
   "cell_type": "code",
   "execution_count": 42,
   "metadata": {},
   "outputs": [],
   "source": [
    "lr06 = rasterio.open('../../datasets/CHANGE_DETECTION_DATASET/Ground_truth/Changes/Changes_06_07.tif')"
   ]
  },
  {
   "cell_type": "code",
   "execution_count": 43,
   "metadata": {},
   "outputs": [],
   "source": [
    "ld06 = lr06.read()[0]"
   ]
  },
  {
   "cell_type": "code",
   "execution_count": 34,
   "metadata": {},
   "outputs": [
    {
     "data": {
      "text/plain": [
       "<matplotlib.image.AxesImage at 0x7f6df9dbd9e8>"
      ]
     },
     "execution_count": 34,
     "metadata": {},
     "output_type": "execute_result"
    },
    {
     "data": {
      "image/png": "[encoded data removed]",
      "text/plain": [
       "<Figure size 432x288 with 1 Axes>"
      ]
     },
     "metadata": {
      "needs_background": "light"
     },
     "output_type": "display_data"
    }
   ],
   "source": [
    "plt.imshow(ld06)"
   ]
  },
  {
   "cell_type": "code",
   "execution_count": 33,
   "metadata": {},
   "outputs": [
    {
     "data": {
      "text/plain": [
       "((4, 5662, 6570), (4, 5662, 6570))"
      ]
     },
     "execution_count": 33,
     "metadata": {},
     "output_type": "execute_result"
    }
   ],
   "source": [
    "d06.shape, d07.shape"
   ]
  },
  {
   "cell_type": "code",
   "execution_count": 35,
   "metadata": {},
   "outputs": [
    {
     "data": {
      "text/plain": [
       "(6794, 7884)"
      ]
     },
     "execution_count": 35,
     "metadata": {},
     "output_type": "execute_result"
    }
   ],
   "source": [
    "ld06.shape"
   ]
  },
  {
   "cell_type": "code",
   "execution_count": 63,
   "metadata": {},
   "outputs": [],
   "source": [
    "rgb06 = cv2.merge([sd06[0], sd06[1], sd06[2]])\n",
    "rgb07 = cv2.merge([sd07[0], sd07[1], sd07[2]])"
   ]
  },
  {
   "cell_type": "code",
   "execution_count": 44,
   "metadata": {},
   "outputs": [],
   "source": [
    "ld06 = cv2.resize(ld06, (rgb06.shape[1], rgb06.shape[0]))"
   ]
  },
  {
   "cell_type": "code",
   "execution_count": 47,
   "metadata": {},
   "outputs": [
    {
     "data": {
      "text/plain": [
       "((5662, 6570), (5662, 6570, 3))"
      ]
     },
     "execution_count": 47,
     "metadata": {},
     "output_type": "execute_result"
    }
   ],
   "source": [
    "ld06.shape, rgb06.shape"
   ]
  },
  {
   "cell_type": "code",
   "execution_count": 51,
   "metadata": {},
   "outputs": [],
   "source": [
    "rgb06[ld06 == 0] = [0,0,0]\n",
    "rgb07[ld06 == 0] = [0,0,0]"
   ]
  },
  {
   "cell_type": "code",
   "execution_count": 64,
   "metadata": {},
   "outputs": [
    {
     "data": {
      "text/plain": [
       "True"
      ]
     },
     "execution_count": 64,
     "metadata": {},
     "output_type": "execute_result"
    }
   ],
   "source": [
    "cv2.imwrite('06.png', rgb06)"
   ]
  },
  {
   "cell_type": "code",
   "execution_count": null,
   "metadata": {},
   "outputs": [],
   "source": []
  },
  {
   "cell_type": "code",
   "execution_count": null,
   "metadata": {},
   "outputs": [],
   "source": []
  },
  {
   "cell_type": "code",
   "execution_count": null,
   "metadata": {},
   "outputs": [],
   "source": []
  }
 ],
 "metadata": {
  "kernelspec": {
   "display_name": "Python 2",
   "language": "python",
   "name": "python2"
  },
  "language_info": {
   "codemirror_mode": {
    "name": "ipython",
    "version": 3
   },
   "file_extension": ".py",
   "mimetype": "text/x-python",
   "name": "python",
   "nbconvert_exporter": "python",
   "pygments_lexer": "ipython3",
   "version": "3.5.2"
  }
 },
 "nbformat": 4,
 "nbformat_minor": 2
}
