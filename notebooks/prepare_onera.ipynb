{
 "cells": [
  {
   "cell_type": "code",
   "execution_count": 1,
   "metadata": {},
   "outputs": [],
   "source": [
    "import rasterio\n",
    "\n",
    "import os\n",
    "import numpy as np\n",
    "import glob\n",
    "import csv\n",
    "import cv2\n",
    "import random"
   ]
  },
  {
   "cell_type": "code",
   "execution_count": 2,
   "metadata": {},
   "outputs": [],
   "source": [
    "cities = os.listdir('../../datasets/onera/train_labels/')\n",
    "cities.sort()\n",
    "input_size = 64"
   ]
  },
  {
   "cell_type": "code",
   "execution_count": 6,
   "metadata": {},
   "outputs": [
    {
     "name": "stdout",
     "output_type": "stream",
     "text": [
      "bercy\n",
      "bordeaux\n",
      "cupertino\n",
      "hongkong\n",
      "mumbai\n",
      "nantes\n",
      "paris\n",
      "pisa\n",
      "rennes\n",
      "saclay_e\n",
      "0.0207362949519\n",
      "abudhabi\n",
      "aguasclaras\n",
      "beihai\n",
      "beirut\n"
     ]
    },
    {
     "name": "stderr",
     "output_type": "stream",
     "text": [
      "/usr/local/lib/python3.5/dist-packages/rasterio/__init__.py:240: NotGeoreferencedWarning: Dataset has no geotransform set. Default transform will be applied (Affine.identity())\n",
      "  s = DatasetReader(fp, driver=driver, **kwargs)\n"
     ]
    }
   ],
   "source": [
    "total_change = 0\n",
    "total_nochange = 0\n",
    "train_change = []\n",
    "train_nochange = []\n",
    "for city in cities[4:]:\n",
    "    print (city)\n",
    "    d = cv2.imread('../../datasets/onera/train_labels/' + city + '/cm/' + 'cm.png', 0) / 255\n",
    "#     print (city, np.unique(d))\n",
    "#   total_change += np.sum(d)\n",
    "#   total_pixels += r.shape[0] * r.shape[1]\n",
    "#     print (d.shape)\n",
    "    for i in range(0, d.shape[0], 16):\n",
    "        for j in range(0, d.shape[1], 16):\n",
    "            if i + input_size < d.shape[0] and j + input_size < d.shape[1]:\n",
    "                if np.sum(d[i:i+input_size, j:j+input_size]) >= 0:\n",
    "                    train_change.append([city, i, j])\n",
    "                    change = np.sum(d[i:i+input_size, j:j+input_size])\n",
    "                    total_change += change\n",
    "                    total_nochange += (input_size * input_size - change)\n",
    "\n",
    "random.shuffle(train_nochange)                  \n",
    "train = train_change + train_nochange[:len(train_change)]\n",
    "print (total_change/total_nochange)\n",
    "\n",
    "test = []\n",
    "for city in cities[:4]:\n",
    "    print (city)\n",
    "    r = rasterio.open('../../datasets/onera/train_labels/' + city + '/cm/' + city + '-cm.tif')\n",
    "    for i in range(0, r.shape[0], input_size):\n",
    "        for j in range(0, r.shape[1], input_size):\n",
    "            if i + input_size < r.shape[0] and j + input_size < r.shape[1] and \\\n",
    "            np.sum(d[i:i+input_size, j:j+input_size]) >= 1:\n",
    "                test.append([city, i, j])"
   ]
  },
  {
   "cell_type": "code",
   "execution_count": 7,
   "metadata": {},
   "outputs": [
    {
     "data": {
      "text/plain": [
       "(11878, 120)"
      ]
     },
     "execution_count": 7,
     "metadata": {},
     "output_type": "execute_result"
    }
   ],
   "source": [
    "len(train), len(test)"
   ]
  },
  {
   "cell_type": "code",
   "execution_count": 8,
   "metadata": {},
   "outputs": [],
   "source": [
    "fout = open('../../datasets/onera/train_64x64.csv', 'w')\n",
    "w = csv.writer(fout)\n",
    "for t in train:\n",
    "    w.writerow(t)\n",
    "fout.close()\n",
    "\n",
    "fout = open('../../datasets/onera/test_64x64.csv', 'w')\n",
    "w = csv.writer(fout)\n",
    "for t in test:\n",
    "    w.writerow(t)\n",
    "fout.close()"
   ]
  },
  {
   "cell_type": "code",
   "execution_count": null,
   "metadata": {},
   "outputs": [],
   "source": []
  },
  {
   "cell_type": "code",
   "execution_count": null,
   "metadata": {},
   "outputs": [],
   "source": []
  },
  {
   "cell_type": "code",
   "execution_count": null,
   "metadata": {},
   "outputs": [],
   "source": []
  },
  {
   "cell_type": "code",
   "execution_count": null,
   "metadata": {},
   "outputs": [],
   "source": []
  },
  {
   "cell_type": "code",
   "execution_count": null,
   "metadata": {},
   "outputs": [],
   "source": []
  },
  {
   "cell_type": "code",
   "execution_count": null,
   "metadata": {},
   "outputs": [],
   "source": []
  },
  {
   "cell_type": "code",
   "execution_count": null,
   "metadata": {},
   "outputs": [],
   "source": []
  },
  {
   "cell_type": "code",
   "execution_count": null,
   "metadata": {},
   "outputs": [],
   "source": []
  },
  {
   "cell_type": "code",
   "execution_count": null,
   "metadata": {},
   "outputs": [],
   "source": []
  },
  {
   "cell_type": "code",
   "execution_count": null,
   "metadata": {},
   "outputs": [],
   "source": []
  },
  {
   "cell_type": "code",
   "execution_count": null,
   "metadata": {},
   "outputs": [],
   "source": []
  },
  {
   "cell_type": "code",
   "execution_count": null,
   "metadata": {},
   "outputs": [],
   "source": []
  },
  {
   "cell_type": "code",
   "execution_count": null,
   "metadata": {},
   "outputs": [],
   "source": []
  },
  {
   "cell_type": "code",
   "execution_count": null,
   "metadata": {},
   "outputs": [],
   "source": []
  }
 ],
 "metadata": {
  "kernelspec": {
   "display_name": "Python 3",
   "language": "python",
   "name": "python3"
  },
  "language_info": {
   "codemirror_mode": {
    "name": "ipython",
    "version": 3
   },
   "file_extension": ".py",
   "mimetype": "text/x-python",
   "name": "python",
   "nbconvert_exporter": "python",
   "pygments_lexer": "ipython3",
   "version": "3.5.2"
  }
 },
 "nbformat": 4,
 "nbformat_minor": 2
}
