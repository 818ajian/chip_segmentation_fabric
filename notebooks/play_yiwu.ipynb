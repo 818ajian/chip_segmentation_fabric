{
 "cells": [
  {
   "cell_type": "code",
   "execution_count": 28,
   "metadata": {},
   "outputs": [],
   "source": [
    "import os\n"
   ]
  },
  {
   "cell_type": "code",
   "execution_count": 29,
   "metadata": {},
   "outputs": [],
   "source": [
    "safes = os.listdir('../../../Yiwu/SAFES/')"
   ]
  },
  {
   "cell_type": "code",
   "execution_count": 30,
   "metadata": {},
   "outputs": [],
   "source": [
    "tileid_date_map = {}\n",
    "for safe in safes:\n",
    "    if 'SAFE' in safe:\n",
    "        date = safe.split('_')[2]\n",
    "        tileid = safe.split('_')[5]\n",
    "        if tileid not in tileid_date_map:\n",
    "            tileid_date_map[tileid] = [date]\n",
    "        else:\n",
    "            tileid_date_map[tileid] += [date]"
   ]
  },
  {
   "cell_type": "code",
   "execution_count": 31,
   "metadata": {},
   "outputs": [
    {
     "name": "stdout",
     "output_type": "stream",
     "text": [
      "T50RQS 20151126T024032 20170228T023631 20170429T023551 20171001T023529 20171026T023801 20171210T024059 20171220T024109 20171225T024121 20180109T024049 20180213T023821 20180223T023711 20180409T023549 20180419T023549 20180613T023551 20180728T023549 \n",
      "T51RTM 20151126T024032 20160623T024048 20170228T023631 20170429T023551 20171031T023819 20171210T024059 20171220T024109 20171225T024121 20180109T024049 20180208T023839 20180213T023821 20180409T023549 20180419T023549 20181001T023551 \n",
      "T51RTN 20151126T024032 20170228T023631 20170429T023551 20170713T023549 20171031T023819 20171210T024059 20171220T024109 20171225T024121 20180109T024049 20180208T023839 20180213T023821 20180409T023549 20180419T023549 20180728T023549 \n",
      "T50RQT 20151126T024032 20161230T024112 20170228T023631 20170429T023551 20171026T023801 20171210T024059 20171220T024109 20171225T024121 20180109T024049 20180208T023839 20180213T023821 20180223T023711 20180310T023539 20180409T023549 20180419T023549 20180514T023551 20180613T023551 20180728T023549 20181001T023551 \n"
     ]
    }
   ],
   "source": [
    "for tileid in tileid_date_map.keys():\n",
    "    dates = tileid_date_map[tileid]\n",
    "    dates.sort()\n",
    "    print (tileid, end=' ')\n",
    "    for date in dates:\n",
    "        print (date, end=' ')\n",
    "    print ()"
   ]
  },
  {
   "cell_type": "code",
   "execution_count": 1,
   "metadata": {},
   "outputs": [],
   "source": [
    "dates = \"\"\"T50RQS 20151126T024032 20170228T023631 20171225T024121 20180728T023549 \n",
    "T51RTM 20151126T024032 20170228T023631 20171225T024121 20181001T023551 \n",
    "T51RTN 20151126T024032 20170228T023631 20171225T024121 20180728T023549 \n",
    "T50RQT 20151126T024032 20170228T023631 20171225T024121 20181001T023551\"\"\""
   ]
  },
  {
   "cell_type": "code",
   "execution_count": 2,
   "metadata": {},
   "outputs": [],
   "source": [
    "samples = {}\n",
    "for line in dates.split('\\n'):\n",
    "    row = line.split()\n",
    "    samples[row[0]] = row[1:]\n",
    "    import rasterio\n",
    "import cv2\n",
    "import "
   ]
  },
  {
   "cell_type": "code",
   "execution_count": 1,
   "metadata": {},
   "outputs": [],
   "source": [
    "import torch\n",
    "import torch.nn as nn\n",
    "import torch.optim as optim\n",
    "import torch.nn.functional as F\n",
    "import numpy as np\n",
    "import cv2 \n",
    "import sys \n",
    "import glob\n",
    "import random\n",
    "from multiprocessing import Pool\n",
    "from itertools import product\n",
    "\n",
    "%matplotlib inline\n",
    "import matplotlib.pyplot as plt\n",
    "\n",
    "import os\n",
    "import math\n",
    "\n",
    "sys.path.append('../utils')\n",
    "sys.path.append('../models')\n",
    "from dataloaders import *\n",
    "from unet_blocks import *\n",
    "from metrics_and_losses import *\n",
    "\n",
    "\n",
    "import rasterio"
   ]
  },
  {
   "cell_type": "code",
   "execution_count": 2,
   "metadata": {},
   "outputs": [],
   "source": [
    "USE_CUDA = torch.cuda.is_available()\n",
    "DEVICE = 0\n",
    "def w(v):\n",
    "    if USE_CUDA:\n",
    "        return v.cuda(DEVICE)\n",
    "    return v"
   ]
  },
  {
   "cell_type": "code",
   "execution_count": 3,
   "metadata": {},
   "outputs": [],
   "source": [
    "# model = torch.load('../weights/onera/3dconv_seg.pt')\n",
    "model = w(UNetClassify(layers=6, init_filters=32, num_channels=13, fusion_method='mul', out_dim=1))\n",
    "weights = torch.load('../../weights/onera/unet_siamese_prod_relu_inp64_13band_2dates_focal_hm_cnc_all_14_cities.pt',\n",
    "                    map_location='cuda:0')\n",
    "model.load_state_dict(weights)\n",
    "# model.eval()"
   ]
  },
  {
   "cell_type": "code",
   "execution_count": 4,
   "metadata": {},
   "outputs": [],
   "source": [
    "d1_bands = glob.glob('../../../Yiwu/SAFES/*20151126T024032*T50RQS*/GRANULE/**/IMG_DATA/*_B*.jp2')\n",
    "d2_bands = glob.glob('../../../Yiwu/SAFES/*20170228T023631*T50RQS*/GRANULE/**/IMG_DATA/*_B*.jp2')\n",
    "\n",
    "d1_bands.sort()\n",
    "d2_bands.sort()"
   ]
  },
  {
   "cell_type": "code",
   "execution_count": 5,
   "metadata": {},
   "outputs": [],
   "source": [
    "def read_band(band):\n",
    "    return rasterio.open(band).read()[0]\n",
    "\n",
    "def read_bands(band_paths):\n",
    "    pool = Pool(13)\n",
    "    bands = pool.map(read_band, band_paths)\n",
    "    pool.close()\n",
    "    return bands\n",
    "\n",
    "# def match_bands(date1, date2):\n",
    "#     pool = Pool(13)\n",
    "#     date2 = pool.starmap(mb, (date1, date2))\n",
    "#     return date2\n",
    "        \n",
    "def _resize(band):\n",
    "    return cv2.resize(band, (10980, 10980))\n",
    "    \n",
    "def stack_bands(bands):\n",
    "    maxh, maxw = 0, 0\n",
    "    for band in bands:\n",
    "        maxh = max(band.shape[0], maxh)\n",
    "        maxw = max(band.shape[1], maxw)\n",
    "    \n",
    "\n",
    "    \n",
    "    pool = Pool(13)\n",
    "    bands = pool.map(_resize, bands)\n",
    "    bands = pool.map(stretch_8bit, bands)\n",
    "    pool.close()\n",
    "    \n",
    "    return np.stack(bands).astype(np.float32)"
   ]
  },
  {
   "cell_type": "code",
   "execution_count": 6,
   "metadata": {},
   "outputs": [],
   "source": [
    "d1b = read_bands(d1_bands)\n",
    "d2b = read_bands(d2_bands)\n",
    "\n",
    "# d2b = match_bands(d1b, d2b)\n",
    "\n",
    "d1b = stack_bands(d1b)\n",
    "d2b = stack_bands(d2b)"
   ]
  },
  {
   "cell_type": "code",
   "execution_count": 9,
   "metadata": {},
   "outputs": [],
   "source": [
    "out = np.zeros((d1b.shape[1], d1b.shape[2]))"
   ]
  },
  {
   "cell_type": "code",
   "execution_count": 10,
   "metadata": {},
   "outputs": [
    {
     "name": "stderr",
     "output_type": "stream",
     "text": [
      "/usr/local/lib/python3.5/dist-packages/torch/nn/functional.py:1890: UserWarning: nn.functional.upsample is deprecated. Use nn.functional.interpolate instead.\n",
      "  warnings.warn(\"nn.functional.upsample is deprecated. Use nn.functional.interpolate instead.\")\n",
      "/usr/local/lib/python3.5/dist-packages/torch/nn/functional.py:1006: UserWarning: nn.functional.sigmoid is deprecated. Use torch.sigmoid instead.\n",
      "  warnings.warn(\"nn.functional.sigmoid is deprecated. Use torch.sigmoid instead.\")\n"
     ]
    }
   ],
   "source": [
    "input_size = 64\n",
    "batches1 = []\n",
    "batches2 = []\n",
    "ijs = []\n",
    "for i in range(0,d1b.shape[1],64):\n",
    "    for j in range(0,d1b.shape[2],64):\n",
    "        if i+input_size <= d1b.shape[1] and j+input_size <= d1b.shape[2]:\n",
    "            batches1.append(d1b[:,i:i+input_size,j:j+input_size])\n",
    "            batches2.append(d2b[:,i:i+input_size,j:j+input_size])\n",
    "            ijs.append([i,j])\n",
    "        elif i+input_size>d1b.shape[1] and j+input_size<=d1b.shape[2]:\n",
    "            batches1.append(d1b[:,d1b.shape[1]-input_size:d1b.shape[1],j:j+input_size])\n",
    "            batches2.append(d2b[:,d2b.shape[1]-input_size:d2b.shape[1],j:j+input_size])\n",
    "            ijs.append([d1b.shape[1]-input_size,j])\n",
    "        elif i+input_size<=d1b.shape[1] and j+input_size>d1b.shape[2]:\n",
    "            batches1.append(d1b[:,i:i+input_size,d1b.shape[2]-input_size:d1b.shape[2]])\n",
    "            batches2.append(d2b[:,i:i+input_size,d2b.shape[2]-input_size:d2b.shape[2]])\n",
    "            ijs.append([i,d1b.shape[2]-input_size])\n",
    "        else:\n",
    "            batches1.append(d1b[:,d1b.shape[1]-input_size:d1b.shape[1],\n",
    "                                 d1b.shape[2]-input_size:d1b.shape[2]])\n",
    "            batches2.append(d2b[:,d2b.shape[1]-input_size:d2b.shape[1],\n",
    "                                 d2b.shape[2]-input_size:d2b.shape[2]])\n",
    "            ijs.append([d1b.shape[1]-input_size,d1b.shape[2]-input_size])\n",
    "\n",
    "        if len(batches1) == 70:\n",
    "            inp1 = w(torch.from_numpy(np.asarray(batches1)))\n",
    "            inp2 = w(torch.from_numpy(np.asarray(batches2)))\n",
    "#                 print (inp1.size(),inp2.size())\n",
    "            logits = model(inp1, inp2)\n",
    "            pred = F.sigmoid(logits) > 0.5\n",
    "            pred = pred.data.cpu().numpy()\n",
    "\n",
    "            batches1 = []\n",
    "            batches2 = []\n",
    "\n",
    "            del inp1\n",
    "            del inp2\n",
    "\n",
    "            for c in range(len(ijs)):\n",
    "                out[ijs[c][0]:ijs[c][0]+input_size,ijs[c][1]:ijs[c][1]+input_size] = pred[c]\n",
    "\n",
    "            ijs = []"
   ]
  },
  {
   "cell_type": "code",
   "execution_count": 23,
   "metadata": {},
   "outputs": [],
   "source": [
    "profile = rasterio.open(d1_bands[1]).meta\n",
    "profile['dtype'] = 'uint8'\n",
    "fout = rasterio.open('../../../Yiwu/cd_out/T50RQS_20151126T024032_20170228T023631.tif', 'w', **profile)\n",
    "fout.write(np.asarray([out]).astype(np.uint8))\n",
    "fout.close()"
   ]
  },
  {
   "cell_type": "code",
   "execution_count": null,
   "metadata": {},
   "outputs": [],
   "source": []
  },
  {
   "cell_type": "code",
   "execution_count": null,
   "metadata": {},
   "outputs": [],
   "source": []
  },
  {
   "cell_type": "code",
   "execution_count": null,
   "metadata": {},
   "outputs": [],
   "source": []
  }
 ],
 "metadata": {
  "kernelspec": {
   "display_name": "Python 3",
   "language": "python",
   "name": "python3"
  },
  "language_info": {
   "codemirror_mode": {
    "name": "ipython",
    "version": 3
   },
   "file_extension": ".py",
   "mimetype": "text/x-python",
   "name": "python",
   "nbconvert_exporter": "python",
   "pygments_lexer": "ipython3",
   "version": "3.5.2"
  }
 },
 "nbformat": 4,
 "nbformat_minor": 2
}
